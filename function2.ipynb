{
 "cells": [
  {
   "cell_type": "code",
   "execution_count": 3,
   "metadata": {},
   "outputs": [],
   "source": [
    "import pandas as pd\n",
    "import inspect\n",
    "from inspect import signature\n",
    "\n",
    "from pandas.core.series import Series\n",
    "from pandas.core.frame import DataFrame\n",
    "\n",
    "import json\n",
    "\n",
    "from flask import jsonify"
   ]
  },
  {
   "cell_type": "code",
   "execution_count": 4,
   "metadata": {},
   "outputs": [],
   "source": [
    "def get_functions(function_list):\n",
    "    function_classes = function_list\n",
    "    result_dict = {}\n",
    "    for function_class in function_classes:\n",
    "        method_list = [method for method in dir(function_class) if (not method.startswith('__')) and (not method.startswith('OUT'))]\n",
    "        method_dict = {}\n",
    "\n",
    "        for method in method_list:\n",
    "            attr_dict = {}\n",
    "            method = eval(function_class.__name__ + \".\" + method)\n",
    "            sig = signature(method)\n",
    "            \n",
    "            parmeter_dict = {}\n",
    "                              \n",
    "            for param in sig.parameters.values():\n",
    "                if not(param.name == \"df\" or param.name == \"output\"):\n",
    "                    parmeter_dict[param.name] = {}\n",
    "                    \n",
    "                    if 'empty' in str(param.default):\n",
    "                        parmeter_dict[param.name][\"inputValue\"] = None\n",
    "                    else:\n",
    "                        parmeter_dict[param.name][\"inputValue\"] = param.default\n",
    "                        \n",
    "                    if 'empty' in str(param.annotation):\n",
    "                        parmeter_dict[param.name][\"inputType\"] = None\n",
    "                    else:\n",
    "                        parmeter_dict[param.name][\"inputType\"] = str(param.annotation).split()[1][1:-2]\n",
    "                    #attr_dict[\"kind\"].append(param.kind)\n",
    "                    \n",
    "#                 elif param.name == \"output\":\n",
    "#                     attr_dict[\"outputType\"] = param.default\n",
    "                    \n",
    "            attr_dict[\"parameters\"] = parmeter_dict \n",
    "            #attr_dict[\"comment\"] = inspect.getdoc(method)\n",
    "            \n",
    "            comment = inspect.getdoc(method)\n",
    "            comment = comment.strip().split(\"\\n\")\n",
    "            \n",
    "            #print(comment)\n",
    "            \n",
    "            for s in comment:\n",
    "                if \":\" in s:\n",
    "                    tmp = s.split(\":\")\n",
    "                    attr_dict[tmp[0].strip()] = tmp[1].strip()\n",
    "                    print(tmp[0].strip())\n",
    "                    print(tmp[1].strip())\n",
    "                    \n",
    "            attr_dict[\"len\"] = method.__code__.co_argcount - 1\n",
    "            #attr_dict[\"source\"] = inspect.getsource(method)\n",
    "\n",
    "            method_dict[method.__name__] = attr_dict\n",
    "\n",
    "            result_dict[function_class.__name__] = method_dict\n",
    "            \n",
    "    return result_dict"
   ]
  },
  {
   "cell_type": "code",
   "execution_count": 5,
   "metadata": {},
   "outputs": [],
   "source": [
    "class UserDefinedRunFunction():\n",
    "#     OUT_REPLACE = \"replace\"\n",
    "#     OUT_CONCAT = \"concat\"\n",
    "#     OUT_NONE = \"none\"\n",
    "\n",
    "    def one_hot_encoding(df, col:str):\n",
    "        \"\"\"\n",
    "        name : 원 핫 인코딩\n",
    "        output_type : concat\n",
    "        comment : 원핫인코딩 함수, 꼭 1개의 인자를 넣어주세요\n",
    "        \"\"\"\n",
    "        return pd.get_dummies(df[col])\n",
    "    \n",
    "    def dropna(df, cols:list):\n",
    "        # df.dropna(subset = [\"Sex\", \"Cabin\"], thresh=2400, how='any')\n",
    "        \"\"\"\n",
    "        name : 결측치 제거\n",
    "        outputType : none\n",
    "        comment : 결측치 제거 함수, 꼭 1개의 인자를 넣어주세요\n",
    "        \"\"\"\n",
    "        return df.dropna(subset=cols, axis=1)\n",
    "    \n",
    "    def scaling(df, how:tuple = [\"minmax\", \"standard\"]):\n",
    "        \"\"\"\n",
    "        name : 스케일링\n",
    "        output_type : none\n",
    "        comment : 스케일링 함수, 꼭 1개의 인자를 넣어주세요\n",
    "        \"\"\"\n",
    "        if how == \"minmax\":\n",
    "            scaler = MinMaxScaler\n",
    "            return scaler.fit_transform(df)\n",
    "        elif how == \"standard\":\n",
    "            scaler = StandardScaler\n",
    "            return scaler.fit_transform(df)"
   ]
  },
  {
   "cell_type": "code",
   "execution_count": 6,
   "metadata": {},
   "outputs": [],
   "source": [
    "class UserDefinedApplyFunction():\n",
    "    \n",
    "    def plus(df, col1:int, col2:int):\n",
    "        \"\"\"\n",
    "        name : 컬럼 더하기\n",
    "        output_type : replace\n",
    "        comment : 두개의 인자 값을 더해주는 함수! 꼭 2개의 인자를 넣어주세요.\"\"\"\n",
    "        return df[col1] + df[col2]\n",
    "\n",
    "    # columns을 던질때 복수형이면서 int형은 어떻게 처리할 것 인지\n",
    "    def substr(df, col:int, num:int):\n",
    "        \"\"\"\n",
    "        name : 문자 슬라이싱\n",
    "        output_type : replace\n",
    "        comment : 문자를 자르는 함수 꼭 1개의 인자를 넣어주세요.\n",
    "        \"\"\"\n",
    "        return df[col][:-int(num)]"
   ]
  },
  {
   "cell_type": "code",
   "execution_count": 7,
   "metadata": {},
   "outputs": [
    {
     "name": "stdout",
     "output_type": "stream",
     "text": [
      "name\n",
      "결측치 제거\n",
      "output_type\n",
      "none\n",
      "comment\n",
      "결측치 제거 함수, 꼭 1개의 인자를 넣어주세요\n",
      "name\n",
      "원 핫 인코딩\n",
      "output_type\n",
      "concat\n",
      "comment\n",
      "원핫인코딩 함수, 꼭 1개의 인자를 넣어주세요\n",
      "name\n",
      "스케일링\n",
      "output_type\n",
      "none\n",
      "comment\n",
      "스케일링 함수, 꼭 1개의 인자를 넣어주세요\n",
      "name\n",
      "컬럼 더하기\n",
      "output_type\n",
      "replace\n",
      "comment\n",
      "두개의 인자 값을 더해주는 함수! 꼭 2개의 인자를 넣어주세요.\n",
      "name\n",
      "문자 슬라이싱\n",
      "output_type\n",
      "replace\n",
      "comment\n",
      "문자를 자르는 함수 꼭 1개의 인자를 넣어주세요.\n"
     ]
    }
   ],
   "source": [
    "function_list = [UserDefinedRunFunction, UserDefinedApplyFunction]\n",
    "#function_list = [UserDefinedApplyFunction]\n",
    "\n",
    "result_json = get_functions(function_list)"
   ]
  },
  {
   "cell_type": "code",
   "execution_count": 8,
   "metadata": {},
   "outputs": [
    {
     "data": {
      "text/plain": [
       "{'UserDefinedRunFunction': {'dropna': {'parameters': {'cols': {'inputValue': None,\n",
       "     'inputType': 'list'}},\n",
       "   'name': '결측치 제거',\n",
       "   'output_type': 'none',\n",
       "   'comment': '결측치 제거 함수, 꼭 1개의 인자를 넣어주세요',\n",
       "   'len': 1},\n",
       "  'one_hot_encoding': {'parameters': {'col': {'inputValue': None,\n",
       "     'inputType': 'str'}},\n",
       "   'name': '원 핫 인코딩',\n",
       "   'output_type': 'concat',\n",
       "   'comment': '원핫인코딩 함수, 꼭 1개의 인자를 넣어주세요',\n",
       "   'len': 1},\n",
       "  'scaling': {'parameters': {'how': {'inputValue': ['minmax', 'standard'],\n",
       "     'inputType': 'tuple'}},\n",
       "   'name': '스케일링',\n",
       "   'output_type': 'none',\n",
       "   'comment': '스케일링 함수, 꼭 1개의 인자를 넣어주세요',\n",
       "   'len': 1}},\n",
       " 'UserDefinedApplyFunction': {'plus': {'parameters': {'col1': {'inputValue': None,\n",
       "     'inputType': 'int'},\n",
       "    'col2': {'inputValue': None, 'inputType': 'int'}},\n",
       "   'name': '컬럼 더하기',\n",
       "   'output_type': 'replace',\n",
       "   'comment': '두개의 인자 값을 더해주는 함수! 꼭 2개의 인자를 넣어주세요.',\n",
       "   'len': 2},\n",
       "  'substr': {'parameters': {'col': {'inputValue': None, 'inputType': 'int'},\n",
       "    'num': {'inputValue': None, 'inputType': 'int'}},\n",
       "   'name': '문자 슬라이싱',\n",
       "   'output_type': 'replace',\n",
       "   'comment': '문자를 자르는 함수 꼭 1개의 인자를 넣어주세요.',\n",
       "   'len': 2}}}"
      ]
     },
     "execution_count": 8,
     "metadata": {},
     "output_type": "execute_result"
    }
   ],
   "source": [
    "result_json"
   ]
  },
  {
   "cell_type": "code",
   "execution_count": 9,
   "metadata": {},
   "outputs": [],
   "source": [
    "with open(\"./data/user_defined_function.json\", \"w\", encoding=\"UTF-8\") as json_file:\n",
    "    json.dump(result_json, json_file, ensure_ascii=False)"
   ]
  },
  {
   "cell_type": "code",
   "execution_count": 10,
   "metadata": {},
   "outputs": [
    {
     "name": "stdout",
     "output_type": "stream",
     "text": [
      "name\n",
      "결측치 제거\n",
      "output_type\n",
      "none\n",
      "comment\n",
      "결측치 제거 함수, 꼭 1개의 인자를 넣어주세요\n",
      "name\n",
      "원 핫 인코딩\n",
      "output_type\n",
      "concat\n",
      "comment\n",
      "원핫인코딩 함수, 꼭 1개의 인자를 넣어주세요\n",
      "name\n",
      "스케일링\n",
      "output_type\n",
      "none\n",
      "comment\n",
      "스케일링 함수, 꼭 1개의 인자를 넣어주세요\n",
      "name\n",
      "컬럼 더하기\n",
      "output_type\n",
      "replace\n",
      "comment\n",
      "두개의 인자 값을 더해주는 함수! 꼭 2개의 인자를 넣어주세요.\n",
      "name\n",
      "문자 슬라이싱\n",
      "output_type\n",
      "replace\n",
      "comment\n",
      "문자를 자르는 함수 꼭 1개의 인자를 넣어주세요.\n"
     ]
    },
    {
     "data": {
      "text/plain": [
       "{'UserDefinedRunFunction': {'dropna': {'parameters': {'cols': {'inputValue': None,\n",
       "     'inputType': 'list'}},\n",
       "   'name': '결측치 제거',\n",
       "   'output_type': 'none',\n",
       "   'comment': '결측치 제거 함수, 꼭 1개의 인자를 넣어주세요',\n",
       "   'len': 1},\n",
       "  'one_hot_encoding': {'parameters': {'col': {'inputValue': None,\n",
       "     'inputType': 'str'}},\n",
       "   'name': '원 핫 인코딩',\n",
       "   'output_type': 'concat',\n",
       "   'comment': '원핫인코딩 함수, 꼭 1개의 인자를 넣어주세요',\n",
       "   'len': 1},\n",
       "  'scaling': {'parameters': {'how': {'inputValue': ['minmax', 'standard'],\n",
       "     'inputType': 'tuple'}},\n",
       "   'name': '스케일링',\n",
       "   'output_type': 'none',\n",
       "   'comment': '스케일링 함수, 꼭 1개의 인자를 넣어주세요',\n",
       "   'len': 1}},\n",
       " 'UserDefinedApplyFunction': {'plus': {'parameters': {'col1': {'inputValue': None,\n",
       "     'inputType': 'int'},\n",
       "    'col2': {'inputValue': None, 'inputType': 'int'}},\n",
       "   'name': '컬럼 더하기',\n",
       "   'output_type': 'replace',\n",
       "   'comment': '두개의 인자 값을 더해주는 함수! 꼭 2개의 인자를 넣어주세요.',\n",
       "   'len': 2},\n",
       "  'substr': {'parameters': {'col': {'inputValue': None, 'inputType': 'int'},\n",
       "    'num': {'inputValue': None, 'inputType': 'int'}},\n",
       "   'name': '문자 슬라이싱',\n",
       "   'output_type': 'replace',\n",
       "   'comment': '문자를 자르는 함수 꼭 1개의 인자를 넣어주세요.',\n",
       "   'len': 2}}}"
      ]
     },
     "execution_count": 10,
     "metadata": {},
     "output_type": "execute_result"
    }
   ],
   "source": [
    "get_functions(function_list)"
   ]
  },
  {
   "cell_type": "markdown",
   "metadata": {},
   "source": [
    "## 코멘트 파싱 테스트"
   ]
  },
  {
   "cell_type": "code",
   "execution_count": 56,
   "metadata": {},
   "outputs": [],
   "source": [
    "comment = 'name : 컬럼 더하기\\noutput_type : replace\\ncomment : 두개의 인자 값을 더해주는 함수! 꼭 2개의 인자를 넣어주세요.'"
   ]
  },
  {
   "cell_type": "code",
   "execution_count": 57,
   "metadata": {},
   "outputs": [],
   "source": [
    "comment = comment.strip().split(\"\\n\")"
   ]
  },
  {
   "cell_type": "code",
   "execution_count": 58,
   "metadata": {},
   "outputs": [
    {
     "data": {
      "text/plain": [
       "['name : 컬럼 더하기',\n",
       " 'output_type : replace',\n",
       " 'comment : 두개의 인자 값을 더해주는 함수! 꼭 2개의 인자를 넣어주세요.']"
      ]
     },
     "execution_count": 58,
     "metadata": {},
     "output_type": "execute_result"
    }
   ],
   "source": [
    "comment"
   ]
  },
  {
   "cell_type": "code",
   "execution_count": 59,
   "metadata": {},
   "outputs": [
    {
     "name": "stdout",
     "output_type": "stream",
     "text": [
      "name\n",
      "컬럼 더하기\n",
      "output_type\n",
      "replace\n",
      "comment\n",
      "두개의 인자 값을 더해주는 함수! 꼭 2개의 인자를 넣어주세요.\n"
     ]
    }
   ],
   "source": [
    "for s in comment:\n",
    "    if \":\" in s:\n",
    "        tmp = s.split(\":\")\n",
    "        print(tmp[0].strip())\n",
    "        print(tmp[1].strip())"
   ]
  },
  {
   "cell_type": "markdown",
   "metadata": {},
   "source": [
    "## 스케일링 테스트"
   ]
  },
  {
   "cell_type": "code",
   "execution_count": 97,
   "metadata": {},
   "outputs": [],
   "source": [
    "from sklearn.preprocessing import MinMaxScaler\n",
    "from sklearn.preprocessing import StandardScaler"
   ]
  },
  {
   "cell_type": "code",
   "execution_count": 98,
   "metadata": {},
   "outputs": [],
   "source": [
    "df = pd.read_csv(\"./data/titanic.csv\")"
   ]
  },
  {
   "cell_type": "code",
   "execution_count": 103,
   "metadata": {},
   "outputs": [],
   "source": [
    "def scaling(df, how:tuple = [\"minmax\", \"standard\"]):\n",
    "        \"\"\"\n",
    "        name : 스케일링\n",
    "        output_type : concat\n",
    "        comment : 스케일링 함수, 꼭 1개의 인자를 넣어주세요\n",
    "        \"\"\"\n",
    "        if how == \"minmax\":\n",
    "            scaler = MinMaxScaler\n",
    "        elif how == \"standard\":\n",
    "            scaler = StandardScaler\n",
    "            \n",
    "        return scaler.fit_transform(df)"
   ]
  },
  {
   "cell_type": "code",
   "execution_count": 104,
   "metadata": {},
   "outputs": [
    {
     "ename": "TypeError",
     "evalue": "fit_transform() missing 1 required positional argument: 'X'",
     "output_type": "error",
     "traceback": [
      "\u001b[0;31m---------------------------------------------------------------------------\u001b[0m",
      "\u001b[0;31mTypeError\u001b[0m                                 Traceback (most recent call last)",
      "\u001b[0;32m<ipython-input-104-462fff20f093>\u001b[0m in \u001b[0;36m<module>\u001b[0;34m\u001b[0m\n\u001b[0;32m----> 1\u001b[0;31m \u001b[0mscaling\u001b[0m\u001b[0;34m(\u001b[0m\u001b[0mdf\u001b[0m\u001b[0;34m,\u001b[0m \u001b[0mhow\u001b[0m\u001b[0;34m=\u001b[0m\u001b[0;34m\"minmax\"\u001b[0m\u001b[0;34m)\u001b[0m\u001b[0;34m\u001b[0m\u001b[0;34m\u001b[0m\u001b[0m\n\u001b[0m",
      "\u001b[0;32m<ipython-input-103-a82ee4916073>\u001b[0m in \u001b[0;36mscaling\u001b[0;34m(df, how)\u001b[0m\n\u001b[1;32m     10\u001b[0m             \u001b[0mscaler\u001b[0m \u001b[0;34m=\u001b[0m \u001b[0mStandardScaler\u001b[0m\u001b[0;34m\u001b[0m\u001b[0;34m\u001b[0m\u001b[0m\n\u001b[1;32m     11\u001b[0m \u001b[0;34m\u001b[0m\u001b[0m\n\u001b[0;32m---> 12\u001b[0;31m         \u001b[0;32mreturn\u001b[0m \u001b[0mscaler\u001b[0m\u001b[0;34m.\u001b[0m\u001b[0mfit_transform\u001b[0m\u001b[0;34m(\u001b[0m\u001b[0mdf\u001b[0m\u001b[0;34m)\u001b[0m\u001b[0;34m\u001b[0m\u001b[0;34m\u001b[0m\u001b[0m\n\u001b[0m",
      "\u001b[0;31mTypeError\u001b[0m: fit_transform() missing 1 required positional argument: 'X'"
     ]
    }
   ],
   "source": [
    "scaling(df, how=\"minmax\")"
   ]
  },
  {
   "cell_type": "code",
   "execution_count": 109,
   "metadata": {},
   "outputs": [
    {
     "data": {
      "text/plain": [
       "PassengerId      0\n",
       "Survived         0\n",
       "Pclass           0\n",
       "Name             0\n",
       "Sex              0\n",
       "Age            177\n",
       "SibSp            0\n",
       "Parch            0\n",
       "Ticket           0\n",
       "Fare             0\n",
       "Cabin          687\n",
       "Embarked         2\n",
       "dtype: int64"
      ]
     },
     "execution_count": 109,
     "metadata": {},
     "output_type": "execute_result"
    }
   ],
   "source": [
    "df.isnull().sum()"
   ]
  },
  {
   "cell_type": "code",
   "execution_count": 111,
   "metadata": {},
   "outputs": [],
   "source": [
    "df = df.dropna()"
   ]
  },
  {
   "cell_type": "code",
   "execution_count": 112,
   "metadata": {},
   "outputs": [
    {
     "ename": "ValueError",
     "evalue": "Expected 2D array, got 1D array instead:\narray=[38.   35.   54.    4.   58.   34.   28.   19.   49.   65.   45.   29.\n 25.   23.   46.   71.   23.   21.   47.   24.   32.5  54.   19.   37.\n 24.   36.5  22.   61.   56.   50.    1.    3.   44.   58.    2.   40.\n 31.   32.   38.   35.   44.   37.   29.   62.   30.   52.   40.   58.\n 35.   37.   63.   19.   36.    2.   50.    0.92 17.   30.   24.   18.\n 31.   40.   36.   36.   16.   45.5  38.   29.   41.   45.    2.   24.\n 24.   22.   60.   24.   25.   27.   36.   23.   24.   33.   32.   28.\n 50.   14.   64.    4.   52.   30.   49.   65.   48.   47.   23.   25.\n 35.   58.   55.   54.   25.   16.   18.   36.   47.   34.   30.   44.\n 45.   22.   36.   50.   17.   48.   39.   53.   36.   39.   39.   36.\n 18.   60.   52.   49.   40.    4.   42.   61.   21.   80.   32.   24.\n 48.   56.   58.   47.   31.   36.   27.   15.   31.   49.   42.   18.\n 35.   42.   24.   48.   19.   38.   27.   27.   29.   35.   36.   21.\n 70.   19.    6.   33.   36.   51.   57.   43.   17.   29.   46.   49.\n 11.   39.   33.   52.   27.   39.   16.   51.   48.   31.   47.   33.\n 56.   19.   26.  ].\nReshape your data either using array.reshape(-1, 1) if your data has a single feature or array.reshape(1, -1) if it contains a single sample.",
     "output_type": "error",
     "traceback": [
      "\u001b[0;31m---------------------------------------------------------------------------\u001b[0m",
      "\u001b[0;31mValueError\u001b[0m                                Traceback (most recent call last)",
      "\u001b[0;32m<ipython-input-112-94d99dd794ac>\u001b[0m in \u001b[0;36m<module>\u001b[0;34m\u001b[0m\n\u001b[1;32m      1\u001b[0m \u001b[0mscaler\u001b[0m \u001b[0;34m=\u001b[0m \u001b[0mStandardScaler\u001b[0m\u001b[0;34m(\u001b[0m\u001b[0;34m)\u001b[0m\u001b[0;34m\u001b[0m\u001b[0;34m\u001b[0m\u001b[0m\n\u001b[0;32m----> 2\u001b[0;31m \u001b[0mscaler\u001b[0m\u001b[0;34m.\u001b[0m\u001b[0mfit_transform\u001b[0m\u001b[0;34m(\u001b[0m\u001b[0mdf\u001b[0m\u001b[0;34m[\u001b[0m\u001b[0;34m\"Age\"\u001b[0m\u001b[0;34m]\u001b[0m\u001b[0;34m)\u001b[0m\u001b[0;34m\u001b[0m\u001b[0;34m\u001b[0m\u001b[0m\n\u001b[0m",
      "\u001b[0;32m~/opt/anaconda3/envs/datacentro_sample/lib/python3.8/site-packages/sklearn/base.py\u001b[0m in \u001b[0;36mfit_transform\u001b[0;34m(self, X, y, **fit_params)\u001b[0m\n\u001b[1;32m    688\u001b[0m         \u001b[0;32mif\u001b[0m \u001b[0my\u001b[0m \u001b[0;32mis\u001b[0m \u001b[0;32mNone\u001b[0m\u001b[0;34m:\u001b[0m\u001b[0;34m\u001b[0m\u001b[0;34m\u001b[0m\u001b[0m\n\u001b[1;32m    689\u001b[0m             \u001b[0;31m# fit method of arity 1 (unsupervised transformation)\u001b[0m\u001b[0;34m\u001b[0m\u001b[0;34m\u001b[0m\u001b[0;34m\u001b[0m\u001b[0m\n\u001b[0;32m--> 690\u001b[0;31m             \u001b[0;32mreturn\u001b[0m \u001b[0mself\u001b[0m\u001b[0;34m.\u001b[0m\u001b[0mfit\u001b[0m\u001b[0;34m(\u001b[0m\u001b[0mX\u001b[0m\u001b[0;34m,\u001b[0m \u001b[0;34m**\u001b[0m\u001b[0mfit_params\u001b[0m\u001b[0;34m)\u001b[0m\u001b[0;34m.\u001b[0m\u001b[0mtransform\u001b[0m\u001b[0;34m(\u001b[0m\u001b[0mX\u001b[0m\u001b[0;34m)\u001b[0m\u001b[0;34m\u001b[0m\u001b[0;34m\u001b[0m\u001b[0m\n\u001b[0m\u001b[1;32m    691\u001b[0m         \u001b[0;32melse\u001b[0m\u001b[0;34m:\u001b[0m\u001b[0;34m\u001b[0m\u001b[0;34m\u001b[0m\u001b[0m\n\u001b[1;32m    692\u001b[0m             \u001b[0;31m# fit method of arity 2 (supervised transformation)\u001b[0m\u001b[0;34m\u001b[0m\u001b[0;34m\u001b[0m\u001b[0;34m\u001b[0m\u001b[0m\n",
      "\u001b[0;32m~/opt/anaconda3/envs/datacentro_sample/lib/python3.8/site-packages/sklearn/preprocessing/_data.py\u001b[0m in \u001b[0;36mfit\u001b[0;34m(self, X, y)\u001b[0m\n\u001b[1;32m    665\u001b[0m         \u001b[0;31m# Reset internal state before fitting\u001b[0m\u001b[0;34m\u001b[0m\u001b[0;34m\u001b[0m\u001b[0;34m\u001b[0m\u001b[0m\n\u001b[1;32m    666\u001b[0m         \u001b[0mself\u001b[0m\u001b[0;34m.\u001b[0m\u001b[0m_reset\u001b[0m\u001b[0;34m(\u001b[0m\u001b[0;34m)\u001b[0m\u001b[0;34m\u001b[0m\u001b[0;34m\u001b[0m\u001b[0m\n\u001b[0;32m--> 667\u001b[0;31m         \u001b[0;32mreturn\u001b[0m \u001b[0mself\u001b[0m\u001b[0;34m.\u001b[0m\u001b[0mpartial_fit\u001b[0m\u001b[0;34m(\u001b[0m\u001b[0mX\u001b[0m\u001b[0;34m,\u001b[0m \u001b[0my\u001b[0m\u001b[0;34m)\u001b[0m\u001b[0;34m\u001b[0m\u001b[0;34m\u001b[0m\u001b[0m\n\u001b[0m\u001b[1;32m    668\u001b[0m \u001b[0;34m\u001b[0m\u001b[0m\n\u001b[1;32m    669\u001b[0m     \u001b[0;32mdef\u001b[0m \u001b[0mpartial_fit\u001b[0m\u001b[0;34m(\u001b[0m\u001b[0mself\u001b[0m\u001b[0;34m,\u001b[0m \u001b[0mX\u001b[0m\u001b[0;34m,\u001b[0m \u001b[0my\u001b[0m\u001b[0;34m=\u001b[0m\u001b[0;32mNone\u001b[0m\u001b[0;34m)\u001b[0m\u001b[0;34m:\u001b[0m\u001b[0;34m\u001b[0m\u001b[0;34m\u001b[0m\u001b[0m\n",
      "\u001b[0;32m~/opt/anaconda3/envs/datacentro_sample/lib/python3.8/site-packages/sklearn/preprocessing/_data.py\u001b[0m in \u001b[0;36mpartial_fit\u001b[0;34m(self, X, y)\u001b[0m\n\u001b[1;32m    694\u001b[0m             \u001b[0mTransformer\u001b[0m \u001b[0minstance\u001b[0m\u001b[0;34m.\u001b[0m\u001b[0;34m\u001b[0m\u001b[0;34m\u001b[0m\u001b[0m\n\u001b[1;32m    695\u001b[0m         \"\"\"\n\u001b[0;32m--> 696\u001b[0;31m         X = self._validate_data(X, accept_sparse=('csr', 'csc'),\n\u001b[0m\u001b[1;32m    697\u001b[0m                                 \u001b[0mestimator\u001b[0m\u001b[0;34m=\u001b[0m\u001b[0mself\u001b[0m\u001b[0;34m,\u001b[0m \u001b[0mdtype\u001b[0m\u001b[0;34m=\u001b[0m\u001b[0mFLOAT_DTYPES\u001b[0m\u001b[0;34m,\u001b[0m\u001b[0;34m\u001b[0m\u001b[0;34m\u001b[0m\u001b[0m\n\u001b[1;32m    698\u001b[0m                                 force_all_finite='allow-nan')\n",
      "\u001b[0;32m~/opt/anaconda3/envs/datacentro_sample/lib/python3.8/site-packages/sklearn/base.py\u001b[0m in \u001b[0;36m_validate_data\u001b[0;34m(self, X, y, reset, validate_separately, **check_params)\u001b[0m\n\u001b[1;32m    418\u001b[0m                     \u001b[0;34mf\"requires y to be passed, but the target y is None.\"\u001b[0m\u001b[0;34m\u001b[0m\u001b[0;34m\u001b[0m\u001b[0m\n\u001b[1;32m    419\u001b[0m                 )\n\u001b[0;32m--> 420\u001b[0;31m             \u001b[0mX\u001b[0m \u001b[0;34m=\u001b[0m \u001b[0mcheck_array\u001b[0m\u001b[0;34m(\u001b[0m\u001b[0mX\u001b[0m\u001b[0;34m,\u001b[0m \u001b[0;34m**\u001b[0m\u001b[0mcheck_params\u001b[0m\u001b[0;34m)\u001b[0m\u001b[0;34m\u001b[0m\u001b[0;34m\u001b[0m\u001b[0m\n\u001b[0m\u001b[1;32m    421\u001b[0m             \u001b[0mout\u001b[0m \u001b[0;34m=\u001b[0m \u001b[0mX\u001b[0m\u001b[0;34m\u001b[0m\u001b[0;34m\u001b[0m\u001b[0m\n\u001b[1;32m    422\u001b[0m         \u001b[0;32melse\u001b[0m\u001b[0;34m:\u001b[0m\u001b[0;34m\u001b[0m\u001b[0;34m\u001b[0m\u001b[0m\n",
      "\u001b[0;32m~/opt/anaconda3/envs/datacentro_sample/lib/python3.8/site-packages/sklearn/utils/validation.py\u001b[0m in \u001b[0;36minner_f\u001b[0;34m(*args, **kwargs)\u001b[0m\n\u001b[1;32m     70\u001b[0m                           FutureWarning)\n\u001b[1;32m     71\u001b[0m         \u001b[0mkwargs\u001b[0m\u001b[0;34m.\u001b[0m\u001b[0mupdate\u001b[0m\u001b[0;34m(\u001b[0m\u001b[0;34m{\u001b[0m\u001b[0mk\u001b[0m\u001b[0;34m:\u001b[0m \u001b[0marg\u001b[0m \u001b[0;32mfor\u001b[0m \u001b[0mk\u001b[0m\u001b[0;34m,\u001b[0m \u001b[0marg\u001b[0m \u001b[0;32min\u001b[0m \u001b[0mzip\u001b[0m\u001b[0;34m(\u001b[0m\u001b[0msig\u001b[0m\u001b[0;34m.\u001b[0m\u001b[0mparameters\u001b[0m\u001b[0;34m,\u001b[0m \u001b[0margs\u001b[0m\u001b[0;34m)\u001b[0m\u001b[0;34m}\u001b[0m\u001b[0;34m)\u001b[0m\u001b[0;34m\u001b[0m\u001b[0;34m\u001b[0m\u001b[0m\n\u001b[0;32m---> 72\u001b[0;31m         \u001b[0;32mreturn\u001b[0m \u001b[0mf\u001b[0m\u001b[0;34m(\u001b[0m\u001b[0;34m**\u001b[0m\u001b[0mkwargs\u001b[0m\u001b[0;34m)\u001b[0m\u001b[0;34m\u001b[0m\u001b[0;34m\u001b[0m\u001b[0m\n\u001b[0m\u001b[1;32m     73\u001b[0m     \u001b[0;32mreturn\u001b[0m \u001b[0minner_f\u001b[0m\u001b[0;34m\u001b[0m\u001b[0;34m\u001b[0m\u001b[0m\n\u001b[1;32m     74\u001b[0m \u001b[0;34m\u001b[0m\u001b[0m\n",
      "\u001b[0;32m~/opt/anaconda3/envs/datacentro_sample/lib/python3.8/site-packages/sklearn/utils/validation.py\u001b[0m in \u001b[0;36mcheck_array\u001b[0;34m(array, accept_sparse, accept_large_sparse, dtype, order, copy, force_all_finite, ensure_2d, allow_nd, ensure_min_samples, ensure_min_features, estimator)\u001b[0m\n\u001b[1;32m    617\u001b[0m             \u001b[0;31m# If input is 1D raise error\u001b[0m\u001b[0;34m\u001b[0m\u001b[0;34m\u001b[0m\u001b[0;34m\u001b[0m\u001b[0m\n\u001b[1;32m    618\u001b[0m             \u001b[0;32mif\u001b[0m \u001b[0marray\u001b[0m\u001b[0;34m.\u001b[0m\u001b[0mndim\u001b[0m \u001b[0;34m==\u001b[0m \u001b[0;36m1\u001b[0m\u001b[0;34m:\u001b[0m\u001b[0;34m\u001b[0m\u001b[0;34m\u001b[0m\u001b[0m\n\u001b[0;32m--> 619\u001b[0;31m                 raise ValueError(\n\u001b[0m\u001b[1;32m    620\u001b[0m                     \u001b[0;34m\"Expected 2D array, got 1D array instead:\\narray={}.\\n\"\u001b[0m\u001b[0;34m\u001b[0m\u001b[0;34m\u001b[0m\u001b[0m\n\u001b[1;32m    621\u001b[0m                     \u001b[0;34m\"Reshape your data either using array.reshape(-1, 1) if \"\u001b[0m\u001b[0;34m\u001b[0m\u001b[0;34m\u001b[0m\u001b[0m\n",
      "\u001b[0;31mValueError\u001b[0m: Expected 2D array, got 1D array instead:\narray=[38.   35.   54.    4.   58.   34.   28.   19.   49.   65.   45.   29.\n 25.   23.   46.   71.   23.   21.   47.   24.   32.5  54.   19.   37.\n 24.   36.5  22.   61.   56.   50.    1.    3.   44.   58.    2.   40.\n 31.   32.   38.   35.   44.   37.   29.   62.   30.   52.   40.   58.\n 35.   37.   63.   19.   36.    2.   50.    0.92 17.   30.   24.   18.\n 31.   40.   36.   36.   16.   45.5  38.   29.   41.   45.    2.   24.\n 24.   22.   60.   24.   25.   27.   36.   23.   24.   33.   32.   28.\n 50.   14.   64.    4.   52.   30.   49.   65.   48.   47.   23.   25.\n 35.   58.   55.   54.   25.   16.   18.   36.   47.   34.   30.   44.\n 45.   22.   36.   50.   17.   48.   39.   53.   36.   39.   39.   36.\n 18.   60.   52.   49.   40.    4.   42.   61.   21.   80.   32.   24.\n 48.   56.   58.   47.   31.   36.   27.   15.   31.   49.   42.   18.\n 35.   42.   24.   48.   19.   38.   27.   27.   29.   35.   36.   21.\n 70.   19.    6.   33.   36.   51.   57.   43.   17.   29.   46.   49.\n 11.   39.   33.   52.   27.   39.   16.   51.   48.   31.   47.   33.\n 56.   19.   26.  ].\nReshape your data either using array.reshape(-1, 1) if your data has a single feature or array.reshape(1, -1) if it contains a single sample."
     ]
    }
   ],
   "source": [
    "scaler = StandardScaler()\n",
    "scaler.fit_transform(df[\"Age\"])"
   ]
  },
  {
   "cell_type": "code",
   "execution_count": null,
   "metadata": {},
   "outputs": [],
   "source": [
    "scaler.fi"
   ]
  }
 ],
 "metadata": {
  "kernelspec": {
   "display_name": "datacentro_sample",
   "language": "python",
   "name": "datacentro_sample"
  },
  "language_info": {
   "codemirror_mode": {
    "name": "ipython",
    "version": 3
   },
   "file_extension": ".py",
   "mimetype": "text/x-python",
   "name": "python",
   "nbconvert_exporter": "python",
   "pygments_lexer": "ipython3",
   "version": "3.8.0"
  }
 },
 "nbformat": 4,
 "nbformat_minor": 4
}
