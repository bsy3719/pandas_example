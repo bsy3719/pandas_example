{
 "cells": [
  {
   "cell_type": "code",
   "execution_count": 1,
   "metadata": {},
   "outputs": [],
   "source": [
    "import pandas as pd\n",
    "import json"
   ]
  },
  {
   "cell_type": "code",
   "execution_count": 2,
   "metadata": {},
   "outputs": [],
   "source": [
    "df = pd.read_csv('./data/titanic.csv', sep=',')"
   ]
  },
  {
   "cell_type": "code",
   "execution_count": 7,
   "metadata": {},
   "outputs": [
    {
     "data": {
      "text/html": [
       "<div>\n",
       "<style scoped>\n",
       "    .dataframe tbody tr th:only-of-type {\n",
       "        vertical-align: middle;\n",
       "    }\n",
       "\n",
       "    .dataframe tbody tr th {\n",
       "        vertical-align: top;\n",
       "    }\n",
       "\n",
       "    .dataframe thead th {\n",
       "        text-align: right;\n",
       "    }\n",
       "</style>\n",
       "<table border=\"1\" class=\"dataframe\">\n",
       "  <thead>\n",
       "    <tr style=\"text-align: right;\">\n",
       "      <th></th>\n",
       "      <th>PassengerId</th>\n",
       "      <th>Survived</th>\n",
       "      <th>Pclass</th>\n",
       "      <th>Name</th>\n",
       "      <th>Sex</th>\n",
       "      <th>Age</th>\n",
       "      <th>SibSp</th>\n",
       "      <th>Parch</th>\n",
       "      <th>Ticket</th>\n",
       "      <th>Fare</th>\n",
       "      <th>Cabin</th>\n",
       "      <th>Embarked</th>\n",
       "    </tr>\n",
       "  </thead>\n",
       "  <tbody>\n",
       "    <tr>\n",
       "      <th>0</th>\n",
       "      <td>1</td>\n",
       "      <td>0</td>\n",
       "      <td>3</td>\n",
       "      <td>Braund, Mr. Owen Harris</td>\n",
       "      <td>male</td>\n",
       "      <td>22.0</td>\n",
       "      <td>1</td>\n",
       "      <td>0</td>\n",
       "      <td>A/5 21171</td>\n",
       "      <td>7.2500</td>\n",
       "      <td>NaN</td>\n",
       "      <td>S</td>\n",
       "    </tr>\n",
       "    <tr>\n",
       "      <th>1</th>\n",
       "      <td>2</td>\n",
       "      <td>1</td>\n",
       "      <td>1</td>\n",
       "      <td>Cumings, Mrs. John Bradley (Florence Briggs Th...</td>\n",
       "      <td>female</td>\n",
       "      <td>38.0</td>\n",
       "      <td>1</td>\n",
       "      <td>0</td>\n",
       "      <td>PC 17599</td>\n",
       "      <td>71.2833</td>\n",
       "      <td>C85</td>\n",
       "      <td>C</td>\n",
       "    </tr>\n",
       "    <tr>\n",
       "      <th>2</th>\n",
       "      <td>3</td>\n",
       "      <td>1</td>\n",
       "      <td>3</td>\n",
       "      <td>Heikkinen, Miss. Laina</td>\n",
       "      <td>female</td>\n",
       "      <td>26.0</td>\n",
       "      <td>0</td>\n",
       "      <td>0</td>\n",
       "      <td>STON/O2. 3101282</td>\n",
       "      <td>7.9250</td>\n",
       "      <td>NaN</td>\n",
       "      <td>S</td>\n",
       "    </tr>\n",
       "    <tr>\n",
       "      <th>3</th>\n",
       "      <td>4</td>\n",
       "      <td>1</td>\n",
       "      <td>1</td>\n",
       "      <td>Futrelle, Mrs. Jacques Heath (Lily May Peel)</td>\n",
       "      <td>female</td>\n",
       "      <td>35.0</td>\n",
       "      <td>1</td>\n",
       "      <td>0</td>\n",
       "      <td>113803</td>\n",
       "      <td>53.1000</td>\n",
       "      <td>C123</td>\n",
       "      <td>S</td>\n",
       "    </tr>\n",
       "    <tr>\n",
       "      <th>4</th>\n",
       "      <td>5</td>\n",
       "      <td>0</td>\n",
       "      <td>3</td>\n",
       "      <td>Allen, Mr. William Henry</td>\n",
       "      <td>male</td>\n",
       "      <td>35.0</td>\n",
       "      <td>0</td>\n",
       "      <td>0</td>\n",
       "      <td>373450</td>\n",
       "      <td>8.0500</td>\n",
       "      <td>NaN</td>\n",
       "      <td>S</td>\n",
       "    </tr>\n",
       "  </tbody>\n",
       "</table>\n",
       "</div>"
      ],
      "text/plain": [
       "   PassengerId  Survived  Pclass  \\\n",
       "0            1         0       3   \n",
       "1            2         1       1   \n",
       "2            3         1       3   \n",
       "3            4         1       1   \n",
       "4            5         0       3   \n",
       "\n",
       "                                                Name     Sex   Age  SibSp  \\\n",
       "0                            Braund, Mr. Owen Harris    male  22.0      1   \n",
       "1  Cumings, Mrs. John Bradley (Florence Briggs Th...  female  38.0      1   \n",
       "2                             Heikkinen, Miss. Laina  female  26.0      0   \n",
       "3       Futrelle, Mrs. Jacques Heath (Lily May Peel)  female  35.0      1   \n",
       "4                           Allen, Mr. William Henry    male  35.0      0   \n",
       "\n",
       "   Parch            Ticket     Fare Cabin Embarked  \n",
       "0      0         A/5 21171   7.2500   NaN        S  \n",
       "1      0          PC 17599  71.2833   C85        C  \n",
       "2      0  STON/O2. 3101282   7.9250   NaN        S  \n",
       "3      0            113803  53.1000  C123        S  \n",
       "4      0            373450   8.0500   NaN        S  "
      ]
     },
     "execution_count": 7,
     "metadata": {},
     "output_type": "execute_result"
    }
   ],
   "source": [
    "titanic_df.head()"
   ]
  },
  {
   "cell_type": "code",
   "execution_count": 8,
   "metadata": {},
   "outputs": [],
   "source": [
    "shape = {\"row\" : titanic_df.shape[0], \"col\" : titanic_df.shape[1]}"
   ]
  },
  {
   "cell_type": "code",
   "execution_count": 9,
   "metadata": {},
   "outputs": [],
   "source": [
    "result = (titanic_df.isnull().sum(axis=0)/titanic_df.shape[0]).to_json(orient=\"index\")\n",
    "null_percentage = json.loads(result)"
   ]
  },
  {
   "cell_type": "code",
   "execution_count": 10,
   "metadata": {},
   "outputs": [],
   "source": [
    "result = titanic_df.describe().to_json(orient=\"index\")\n",
    "describe_int = json.loads(result)"
   ]
  },
  {
   "cell_type": "code",
   "execution_count": 11,
   "metadata": {},
   "outputs": [],
   "source": [
    "result = titanic_df.describe(include=[object]).to_json(orient=\"index\")\n",
    "describe_str = json.loads(result)"
   ]
  },
  {
   "cell_type": "code",
   "execution_count": 12,
   "metadata": {},
   "outputs": [],
   "source": [
    "dtypes = dict(zip(list(titanic_df.columns), list(map(str, titanic_df.dtypes))))"
   ]
  },
  {
   "cell_type": "code",
   "execution_count": 13,
   "metadata": {},
   "outputs": [],
   "source": [
    "value_counts = {}\n",
    "for col in titanic_df.columns:\n",
    "    tmp = titanic_df[col].value_counts().to_json(orient=\"index\")\n",
    "    value_counts[col] = json.loads(tmp)"
   ]
  },
  {
   "cell_type": "code",
   "execution_count": 14,
   "metadata": {},
   "outputs": [],
   "source": [
    "result = {'nullPercentage': null_percentage, \n",
    "          'describeInt' : describe_int, \n",
    "          'describeStr' : describe_str, \n",
    "          'dtypes' : dtypes, \n",
    "          'shape': shape,\n",
    "          'value_counts' : value_counts\n",
    "         }"
   ]
  },
  {
   "cell_type": "code",
   "execution_count": 178,
   "metadata": {},
   "outputs": [],
   "source": [
    "with open(\"./data/titanic.json\", \"w\") as json_file:\n",
    "    json.dump(result, json_file)"
   ]
  },
  {
   "cell_type": "code",
   "execution_count": 15,
   "metadata": {},
   "outputs": [],
   "source": [
    "result = titanic_df.describe().to_json(orient=\"columns\")\n",
    "describe_int = json.loads(result)"
   ]
  },
  {
   "cell_type": "code",
   "execution_count": 16,
   "metadata": {},
   "outputs": [],
   "source": [
    "result = titanic_df.describe(include=[object]).to_json(orient=\"columns\")\n",
    "describe_str = json.loads(result)"
   ]
  },
  {
   "cell_type": "code",
   "execution_count": 17,
   "metadata": {},
   "outputs": [],
   "source": [
    "df_json = {}\n",
    "describe_list = [describe_int, describe_str]\n",
    "for describe in describe_list :\n",
    "    for col in describe.keys():\n",
    "        if col in df_json.keys():\n",
    "            for key in describe[col].keys():\n",
    "                df_json[col][key] = describe[col][key]\n",
    "        else:\n",
    "            df_json[col] =  describe[col]"
   ]
  },
  {
   "cell_type": "code",
   "execution_count": 19,
   "metadata": {},
   "outputs": [],
   "source": [
    "for col in null_percentage:\n",
    "    df_json[col][\"nullPercentage\"] = null_percentage[col]"
   ]
  },
  {
   "cell_type": "code",
   "execution_count": 20,
   "metadata": {},
   "outputs": [],
   "source": [
    "for col in dtypes:\n",
    "    df_json[col][\"dtypes\"] = dtypes[col]"
   ]
  },
  {
   "cell_type": "code",
   "execution_count": 22,
   "metadata": {},
   "outputs": [],
   "source": [
    "for col in value_counts:\n",
    "    df_json[col][\"value_counts\"] = value_counts[col]"
   ]
  },
  {
   "cell_type": "code",
   "execution_count": 23,
   "metadata": {},
   "outputs": [],
   "source": [
    "result_json = {\"columns\" : df_json, \"shape\" : shape}\n",
    "#df_json[\"shape\"] = shape"
   ]
  },
  {
   "cell_type": "code",
   "execution_count": 25,
   "metadata": {},
   "outputs": [],
   "source": [
    "with open(\"./data/titanic.json\", \"w\") as json_file:\n",
    "    json.dump(result_json, json_file)"
   ]
  },
  {
   "cell_type": "code",
   "execution_count": 251,
   "metadata": {},
   "outputs": [],
   "source": [
    "value_counts = {}\n",
    "for col in titanic_df.columns:\n",
    "    tmp = titanic_df[col].value_counts().to_json(orient=\"index\")\n",
    "    value_counts[col] = json.loads(tmp)"
   ]
  },
  {
   "cell_type": "code",
   "execution_count": 258,
   "metadata": {},
   "outputs": [
    {
     "name": "stdout",
     "output_type": "stream",
     "text": [
      "male 577\n",
      "female 314\n"
     ]
    }
   ],
   "source": [
    "tmp\n",
    "for k,v in json.loads(tmp).items():\n",
    "    print(k,v)\n",
    "    "
   ]
  },
  {
   "cell_type": "markdown",
   "metadata": {},
   "source": [
    "## git에 추가할 새로운 샘플코드"
   ]
  },
  {
   "cell_type": "code",
   "execution_count": 4,
   "metadata": {},
   "outputs": [],
   "source": [
    "import pandas as pd\n",
    "import json\n",
    "\n",
    "df = pd.read_csv('./data/titanic.csv', sep=',')"
   ]
  },
  {
   "cell_type": "code",
   "execution_count": 6,
   "metadata": {},
   "outputs": [],
   "source": [
    "shape = {\"row\" : df.shape[0], \"col\" : df.shape[1]}"
   ]
  },
  {
   "cell_type": "code",
   "execution_count": 5,
   "metadata": {},
   "outputs": [
    {
     "data": {
      "text/plain": [
       "{'row': 891, 'col': 12}"
      ]
     },
     "execution_count": 5,
     "metadata": {},
     "output_type": "execute_result"
    }
   ],
   "source": [
    "get_shape(df)"
   ]
  },
  {
   "cell_type": "code",
   "execution_count": 8,
   "metadata": {},
   "outputs": [],
   "source": [
    "result = df.describe(include=[object]).to_json(orient=\"columns\")\n",
    "describe_str = json.loads(result)"
   ]
  },
  {
   "cell_type": "code",
   "execution_count": 9,
   "metadata": {},
   "outputs": [],
   "source": [
    "df_json = {}\n",
    "describe_list = [describe_int, describe_str]\n",
    "for describe in describe_list :\n",
    "    for col in describe.keys():\n",
    "        if col in df_json.keys():\n",
    "            for key in describe[col].keys():\n",
    "                df_json[col][key] = describe[col][key]\n",
    "        else:\n",
    "            df_json[col] =  describe[col]"
   ]
  },
  {
   "cell_type": "code",
   "execution_count": 12,
   "metadata": {},
   "outputs": [],
   "source": [
    "result = df.isnull().sum(axis=0).to_json(orient=\"index\")\n",
    "null = json.loads(result)"
   ]
  },
  {
   "cell_type": "code",
   "execution_count": 14,
   "metadata": {},
   "outputs": [],
   "source": [
    "dtypes = dict(zip(list(df.columns), list(map(str, df.dtypes))))"
   ]
  },
  {
   "cell_type": "code",
   "execution_count": 24,
   "metadata": {},
   "outputs": [],
   "source": [
    "value_counts = {}\n",
    "for col in df.columns:\n",
    "    if len(df[col].unique()) <= 10:\n",
    "        tmp = df[col].value_counts().to_json(orient=\"index\")\n",
    "        value_counts[col] = json.loads(tmp)"
   ]
  },
  {
   "cell_type": "code",
   "execution_count": 27,
   "metadata": {},
   "outputs": [],
   "source": [
    "info_dict = {\"null\":null, \"dtypes\":dtypes, \"value_counts\":value_counts}\n",
    "\n",
    "for key, value in info_dict.items():\n",
    "    for col in value:\n",
    "        df_json[col][key] = value[col]"
   ]
  },
  {
   "cell_type": "code",
   "execution_count": 29,
   "metadata": {},
   "outputs": [],
   "source": [
    "result_json = {\"columns\" : df_json, \"shape\" : shape}"
   ]
  },
  {
   "cell_type": "code",
   "execution_count": 32,
   "metadata": {},
   "outputs": [],
   "source": [
    "with open(\"./data/titanic.json\", \"w\") as json_file:\n",
    "    json.dump(result_json, json_file)"
   ]
  },
  {
   "cell_type": "markdown",
   "metadata": {},
   "source": [
    "## 함수 적용"
   ]
  },
  {
   "cell_type": "code",
   "execution_count": 24,
   "metadata": {},
   "outputs": [],
   "source": [
    "import pandas as pd\n",
    "import json\n",
    "\n",
    "df = pd.read_csv('./data/titanic.csv', sep=',')"
   ]
  },
  {
   "cell_type": "code",
   "execution_count": 25,
   "metadata": {},
   "outputs": [],
   "source": [
    "def get_shape(df):\n",
    "    return {\"row\" : df.shape[0], \"col\" : df.shape[1]}"
   ]
  },
  {
   "cell_type": "code",
   "execution_count": 26,
   "metadata": {},
   "outputs": [],
   "source": [
    "def get_describe(df):\n",
    "    result = df.describe(include='all').to_json(orient=\"columns\")\n",
    "    return json.loads(result)"
   ]
  },
  {
   "cell_type": "code",
   "execution_count": 27,
   "metadata": {},
   "outputs": [],
   "source": [
    "def get_null(df):\n",
    "    result = df.isnull().sum(axis=0).to_json(orient=\"index\")\n",
    "    return json.loads(result)"
   ]
  },
  {
   "cell_type": "code",
   "execution_count": 28,
   "metadata": {},
   "outputs": [],
   "source": [
    "def get_dtypes(df):\n",
    "    return dict(zip(list(df.columns), list(map(str, df.dtypes))))"
   ]
  },
  {
   "cell_type": "code",
   "execution_count": 29,
   "metadata": {},
   "outputs": [],
   "source": [
    "def get_value_counts(df):\n",
    "    value_counts = {}\n",
    "    for col in df.columns:\n",
    "        if len(df[col].unique()) <= 10:\n",
    "            tmp = df[col].value_counts().to_json(orient=\"index\")\n",
    "            value_counts[col] = json.loads(tmp)\n",
    "    return value_counts"
   ]
  },
  {
   "cell_type": "code",
   "execution_count": 30,
   "metadata": {},
   "outputs": [],
   "source": [
    "df_json = {}"
   ]
  },
  {
   "cell_type": "code",
   "execution_count": 31,
   "metadata": {},
   "outputs": [],
   "source": [
    "describe = get_describe(df)"
   ]
  },
  {
   "cell_type": "code",
   "execution_count": 32,
   "metadata": {},
   "outputs": [],
   "source": [
    "for col in describe.keys():\n",
    "    if col in df_json.keys():\n",
    "        for key in describe[col].keys():\n",
    "            df_json[col][key] = describe[col][key]\n",
    "    else:\n",
    "        df_json[col] =  describe[col]"
   ]
  },
  {
   "cell_type": "code",
   "execution_count": 33,
   "metadata": {},
   "outputs": [],
   "source": [
    "null = get_null(df)\n",
    "dtypes = get_dtypes(df)\n",
    "value_counts = get_value_counts(df)"
   ]
  },
  {
   "cell_type": "code",
   "execution_count": 34,
   "metadata": {},
   "outputs": [],
   "source": [
    "info_dict = {\"null\":null, \"dtypes\":dtypes, \"value_counts\":value_counts}\n",
    "\n",
    "for key, value in info_dict.items():\n",
    "    for col in value.keys():\n",
    "        df_json[col][key] = value[col]"
   ]
  },
  {
   "cell_type": "code",
   "execution_count": 37,
   "metadata": {},
   "outputs": [],
   "source": [
    "result_json = {\"columns\" : df_json, \"shape\" : shape}"
   ]
  },
  {
   "cell_type": "code",
   "execution_count": 38,
   "metadata": {},
   "outputs": [],
   "source": [
    "with open(\"./data/titanic.json\", \"w\") as json_file:\n",
    "    json.dump(result_json, json_file)"
   ]
  },
  {
   "cell_type": "code",
   "execution_count": null,
   "metadata": {},
   "outputs": [],
   "source": []
  },
  {
   "cell_type": "code",
   "execution_count": null,
   "metadata": {},
   "outputs": [],
   "source": []
  },
  {
   "cell_type": "code",
   "execution_count": 7,
   "metadata": {},
   "outputs": [],
   "source": [
    "import json"
   ]
  },
  {
   "cell_type": "code",
   "execution_count": 1,
   "metadata": {},
   "outputs": [],
   "source": [
    "import pandas as pd"
   ]
  },
  {
   "cell_type": "code",
   "execution_count": 26,
   "metadata": {},
   "outputs": [],
   "source": [
    "df = pd.read_csv(\"./data/titanic.csv\", nrows= 10)"
   ]
  },
  {
   "cell_type": "code",
   "execution_count": 34,
   "metadata": {},
   "outputs": [
    {
     "data": {
      "text/html": [
       "<div>\n",
       "<style scoped>\n",
       "    .dataframe tbody tr th:only-of-type {\n",
       "        vertical-align: middle;\n",
       "    }\n",
       "\n",
       "    .dataframe tbody tr th {\n",
       "        vertical-align: top;\n",
       "    }\n",
       "\n",
       "    .dataframe thead th {\n",
       "        text-align: right;\n",
       "    }\n",
       "</style>\n",
       "<table border=\"1\" class=\"dataframe\">\n",
       "  <thead>\n",
       "    <tr style=\"text-align: right;\">\n",
       "      <th></th>\n",
       "      <th>PassengerId</th>\n",
       "      <th>Name</th>\n",
       "      <th>Pclass</th>\n",
       "    </tr>\n",
       "  </thead>\n",
       "  <tbody>\n",
       "    <tr>\n",
       "      <th>0</th>\n",
       "      <td>1</td>\n",
       "      <td>Braund, Mr. Owen Harris</td>\n",
       "      <td>3</td>\n",
       "    </tr>\n",
       "    <tr>\n",
       "      <th>1</th>\n",
       "      <td>2</td>\n",
       "      <td>Cumings, Mrs. John Bradley (Florence Briggs Th...</td>\n",
       "      <td>1</td>\n",
       "    </tr>\n",
       "    <tr>\n",
       "      <th>2</th>\n",
       "      <td>3</td>\n",
       "      <td>Heikkinen, Miss. Laina</td>\n",
       "      <td>3</td>\n",
       "    </tr>\n",
       "    <tr>\n",
       "      <th>3</th>\n",
       "      <td>4</td>\n",
       "      <td>Futrelle, Mrs. Jacques Heath (Lily May Peel)</td>\n",
       "      <td>1</td>\n",
       "    </tr>\n",
       "    <tr>\n",
       "      <th>4</th>\n",
       "      <td>5</td>\n",
       "      <td>Allen, Mr. William Henry</td>\n",
       "      <td>3</td>\n",
       "    </tr>\n",
       "    <tr>\n",
       "      <th>5</th>\n",
       "      <td>6</td>\n",
       "      <td>Moran, Mr. James</td>\n",
       "      <td>3</td>\n",
       "    </tr>\n",
       "    <tr>\n",
       "      <th>6</th>\n",
       "      <td>7</td>\n",
       "      <td>McCarthy, Mr. Timothy J</td>\n",
       "      <td>1</td>\n",
       "    </tr>\n",
       "    <tr>\n",
       "      <th>7</th>\n",
       "      <td>8</td>\n",
       "      <td>Palsson, Master. Gosta Leonard</td>\n",
       "      <td>3</td>\n",
       "    </tr>\n",
       "    <tr>\n",
       "      <th>8</th>\n",
       "      <td>9</td>\n",
       "      <td>Johnson, Mrs. Oscar W (Elisabeth Vilhelmina Berg)</td>\n",
       "      <td>3</td>\n",
       "    </tr>\n",
       "    <tr>\n",
       "      <th>9</th>\n",
       "      <td>10</td>\n",
       "      <td>Nasser, Mrs. Nicholas (Adele Achem)</td>\n",
       "      <td>2</td>\n",
       "    </tr>\n",
       "  </tbody>\n",
       "</table>\n",
       "</div>"
      ],
      "text/plain": [
       "   PassengerId                                               Name  Pclass\n",
       "0            1                            Braund, Mr. Owen Harris       3\n",
       "1            2  Cumings, Mrs. John Bradley (Florence Briggs Th...       1\n",
       "2            3                             Heikkinen, Miss. Laina       3\n",
       "3            4       Futrelle, Mrs. Jacques Heath (Lily May Peel)       1\n",
       "4            5                           Allen, Mr. William Henry       3\n",
       "5            6                                   Moran, Mr. James       3\n",
       "6            7                            McCarthy, Mr. Timothy J       1\n",
       "7            8                     Palsson, Master. Gosta Leonard       3\n",
       "8            9  Johnson, Mrs. Oscar W (Elisabeth Vilhelmina Berg)       3\n",
       "9           10                Nasser, Mrs. Nicholas (Adele Achem)       2"
      ]
     },
     "execution_count": 34,
     "metadata": {},
     "output_type": "execute_result"
    }
   ],
   "source": [
    "df = df[[\"PassengerId\", \"Pclass\", \"Name\"]]\n",
    "\n",
    "use_list = [\"PassengerId\", \"Pclass\", \"Name\"]\n",
    "type_list = [\"int64\",\"int64\",\"object\"]\n",
    "column_list = [\"PassengerId\", \"Name\", \"Pclass\"]\n",
    "rename_list = [\"PassengerId\",\"Pclass\",\"Name\"]\n",
    "\n",
    "df = df.astype(dict(zip(use_list, type_list)))\n",
    "df = df[column_list]\n",
    "column_dict = dict(zip(use_list, rename_list))\n",
    "\n",
    "df.rename(columns=column_dict)"
   ]
  },
  {
   "cell_type": "code",
   "execution_count": 35,
   "metadata": {},
   "outputs": [],
   "source": [
    "parsed = df.to_json(orient=\"records\")\n",
    "result = json.loads(parsed)"
   ]
  },
  {
   "cell_type": "code",
   "execution_count": 36,
   "metadata": {},
   "outputs": [
    {
     "data": {
      "text/plain": [
       "'[{\"PassengerId\":1,\"Name\":\"Braund, Mr. Owen Harris\",\"Pclass\":3},{\"PassengerId\":2,\"Name\":\"Cumings, Mrs. John Bradley (Florence Briggs Thayer)\",\"Pclass\":1},{\"PassengerId\":3,\"Name\":\"Heikkinen, Miss. Laina\",\"Pclass\":3},{\"PassengerId\":4,\"Name\":\"Futrelle, Mrs. Jacques Heath (Lily May Peel)\",\"Pclass\":1},{\"PassengerId\":5,\"Name\":\"Allen, Mr. William Henry\",\"Pclass\":3},{\"PassengerId\":6,\"Name\":\"Moran, Mr. James\",\"Pclass\":3},{\"PassengerId\":7,\"Name\":\"McCarthy, Mr. Timothy J\",\"Pclass\":1},{\"PassengerId\":8,\"Name\":\"Palsson, Master. Gosta Leonard\",\"Pclass\":3},{\"PassengerId\":9,\"Name\":\"Johnson, Mrs. Oscar W (Elisabeth Vilhelmina Berg)\",\"Pclass\":3},{\"PassengerId\":10,\"Name\":\"Nasser, Mrs. Nicholas (Adele Achem)\",\"Pclass\":2}]'"
      ]
     },
     "execution_count": 36,
     "metadata": {},
     "output_type": "execute_result"
    }
   ],
   "source": [
    "parsed"
   ]
  },
  {
   "cell_type": "code",
   "execution_count": 37,
   "metadata": {},
   "outputs": [
    {
     "data": {
      "text/plain": [
       "[{'PassengerId': 1, 'Name': 'Braund, Mr. Owen Harris', 'Pclass': 3},\n",
       " {'PassengerId': 2,\n",
       "  'Name': 'Cumings, Mrs. John Bradley (Florence Briggs Thayer)',\n",
       "  'Pclass': 1},\n",
       " {'PassengerId': 3, 'Name': 'Heikkinen, Miss. Laina', 'Pclass': 3},\n",
       " {'PassengerId': 4,\n",
       "  'Name': 'Futrelle, Mrs. Jacques Heath (Lily May Peel)',\n",
       "  'Pclass': 1},\n",
       " {'PassengerId': 5, 'Name': 'Allen, Mr. William Henry', 'Pclass': 3},\n",
       " {'PassengerId': 6, 'Name': 'Moran, Mr. James', 'Pclass': 3},\n",
       " {'PassengerId': 7, 'Name': 'McCarthy, Mr. Timothy J', 'Pclass': 1},\n",
       " {'PassengerId': 8, 'Name': 'Palsson, Master. Gosta Leonard', 'Pclass': 3},\n",
       " {'PassengerId': 9,\n",
       "  'Name': 'Johnson, Mrs. Oscar W (Elisabeth Vilhelmina Berg)',\n",
       "  'Pclass': 3},\n",
       " {'PassengerId': 10,\n",
       "  'Name': 'Nasser, Mrs. Nicholas (Adele Achem)',\n",
       "  'Pclass': 2}]"
      ]
     },
     "execution_count": 37,
     "metadata": {},
     "output_type": "execute_result"
    }
   ],
   "source": [
    "result"
   ]
  },
  {
   "cell_type": "code",
   "execution_count": 100,
   "metadata": {},
   "outputs": [],
   "source": [
    "import pandas as pd\n",
    "import json"
   ]
  },
  {
   "cell_type": "code",
   "execution_count": 101,
   "metadata": {},
   "outputs": [],
   "source": [
    "df = pd.read_csv(\"./data/titanic.csv\")"
   ]
  },
  {
   "cell_type": "code",
   "execution_count": 168,
   "metadata": {},
   "outputs": [],
   "source": [
    "def get_shape(df):\n",
    "    return {\"numRow\" : df.shape[0], \"numCol\" : df.shape[1]}\n",
    "\n",
    "\n",
    "def get_describe(df):\n",
    "    describe = df.describe(include='all').to_json(orient=\"columns\")\n",
    "    describe = json.loads(describe)\n",
    "\n",
    "    default_dict = {'count': None,\n",
    "                    'unique': None,\n",
    "                    'top': None,\n",
    "                    'freq': None,\n",
    "                    'mean': None,\n",
    "                    'std': None,\n",
    "                    'min': None,\n",
    "                    '25%': None,\n",
    "                    '50%': None,\n",
    "                    '75%': None,\n",
    "                    'max': None}\n",
    "\n",
    "    result = {}\n",
    "    for col in describe.keys():\n",
    "        print(col)\n",
    "        result[col] = default_dict.copy()\n",
    "        result[col].update(describe[col])\n",
    "\n",
    "    return result\n",
    "\n",
    "def get_null_count(df):\n",
    "    result = df.isnull().sum(axis=0).to_json(orient=\"index\")\n",
    "    return json.loads(result)\n",
    "\n",
    "    # return df.isnull().sum(axis=0).to_dict()\n",
    "\n",
    "def get_column_type(df):\n",
    "    return dict(zip(list(df.columns), list(map(str, df.dtypes))))\n",
    "\n",
    "def get_value_counts(df):\n",
    "    bins = 10\n",
    "\n",
    "    value_counts = {}\n",
    "    for col in df.columns:\n",
    "        if len(df[col].unique()) <= 10:\n",
    "            #value_counts[col] = df[col].value_counts().to_dict()\n",
    "            tmp = df[col].value_counts().to_json(orient=\"index\")\n",
    "            value_counts[col] = json.loads(tmp)\n",
    "\n",
    "        elif str(df[col].dtypes).startswith(\"int\") or str(df[col].dtypes).startswith(\"float\"):\n",
    "            tmp = pd.cut(df[col], bins=bins).value_counts()\n",
    "            tmp.index = tmp.index.astype(\"str\")\n",
    "            tmp.index = tmp.index.map(lambda x: x[1:-1].replace(\",\", \" -\"))\n",
    "\n",
    "            tmp = tmp.to_json(orient=\"index\")\n",
    "            value_counts[col] = json.loads(tmp)\n",
    "\n",
    "            # value_counts[col] = tmp.to_dict()\n",
    "        else:\n",
    "            value_counts[col] = None\n",
    "\n",
    "    return value_counts\n",
    "\n",
    "def get_column_info(df):\n",
    "    shape = get_shape(df)\n",
    "    describe = get_describe(df)\n",
    "    null_count = get_null_count(df)\n",
    "    column_type = get_column_type(df)\n",
    "    value_count = get_value_counts(df)\n",
    "\n",
    "    tmp_json = describe\n",
    "\n",
    "    info_dict = {\"nullCount\": null_count, \"dtype\": column_type, \"valueCount\": value_count}\n",
    "\n",
    "    for key, value in info_dict.items():\n",
    "        for col in value.keys():\n",
    "            tmp_json[col][key] = value[col]\n",
    "\n",
    "    return {\"columnInfo\": tmp_json, \"shape\": shape}"
   ]
  },
  {
   "cell_type": "code",
   "execution_count": 169,
   "metadata": {},
   "outputs": [
    {
     "name": "stdout",
     "output_type": "stream",
     "text": [
      "PassengerId\n",
      "Survived\n",
      "Pclass\n",
      "Name\n",
      "Sex\n",
      "Age\n",
      "SibSp\n",
      "Parch\n",
      "Ticket\n",
      "Fare\n",
      "Cabin\n",
      "Embarked\n"
     ]
    },
    {
     "data": {
      "text/plain": [
       "{'columnInfo': {'PassengerId': {'count': 891.0,\n",
       "   'unique': None,\n",
       "   'top': None,\n",
       "   'freq': None,\n",
       "   'mean': 446.0,\n",
       "   'std': 257.3538420152,\n",
       "   'min': 1.0,\n",
       "   '25%': 223.5,\n",
       "   '50%': 446.0,\n",
       "   '75%': 668.5,\n",
       "   'max': 891.0,\n",
       "   'nullCount': 0,\n",
       "   'dtype': 'int64',\n",
       "   'valueCount': {'0.11 - 90.0': 90,\n",
       "    '802.0 - 891.0': 89,\n",
       "    '713.0 - 802.0': 89,\n",
       "    '624.0 - 713.0': 89,\n",
       "    '535.0 - 624.0': 89,\n",
       "    '446.0 - 535.0': 89,\n",
       "    '357.0 - 446.0': 89,\n",
       "    '268.0 - 357.0': 89,\n",
       "    '179.0 - 268.0': 89,\n",
       "    '90.0 - 179.0': 89}},\n",
       "  'Survived': {'count': 891.0,\n",
       "   'unique': None,\n",
       "   'top': None,\n",
       "   'freq': None,\n",
       "   'mean': 0.3838383838,\n",
       "   'std': 0.4865924543,\n",
       "   'min': 0.0,\n",
       "   '25%': 0.0,\n",
       "   '50%': 0.0,\n",
       "   '75%': 1.0,\n",
       "   'max': 1.0,\n",
       "   'nullCount': 0,\n",
       "   'dtype': 'int64',\n",
       "   'valueCount': {'0': 549, '1': 342}},\n",
       "  'Pclass': {'count': 891.0,\n",
       "   'unique': None,\n",
       "   'top': None,\n",
       "   'freq': None,\n",
       "   'mean': 2.3086419753,\n",
       "   'std': 0.836071241,\n",
       "   'min': 1.0,\n",
       "   '25%': 2.0,\n",
       "   '50%': 3.0,\n",
       "   '75%': 3.0,\n",
       "   'max': 3.0,\n",
       "   'nullCount': 0,\n",
       "   'dtype': 'int64',\n",
       "   'valueCount': {'3': 491, '1': 216, '2': 184}},\n",
       "  'Name': {'count': 891,\n",
       "   'unique': 891,\n",
       "   'top': 'Weir, Col. John',\n",
       "   'freq': 1,\n",
       "   'mean': None,\n",
       "   'std': None,\n",
       "   'min': None,\n",
       "   '25%': None,\n",
       "   '50%': None,\n",
       "   '75%': None,\n",
       "   'max': None,\n",
       "   'nullCount': 0,\n",
       "   'dtype': 'object',\n",
       "   'valueCount': None},\n",
       "  'Sex': {'count': 891,\n",
       "   'unique': 2,\n",
       "   'top': 'male',\n",
       "   'freq': 577,\n",
       "   'mean': None,\n",
       "   'std': None,\n",
       "   'min': None,\n",
       "   '25%': None,\n",
       "   '50%': None,\n",
       "   '75%': None,\n",
       "   'max': None,\n",
       "   'nullCount': 0,\n",
       "   'dtype': 'object',\n",
       "   'valueCount': {'male': 577, 'female': 314}},\n",
       "  'Age': {'count': 714.0,\n",
       "   'unique': None,\n",
       "   'top': None,\n",
       "   'freq': None,\n",
       "   'mean': 29.6991176471,\n",
       "   'std': 14.5264973323,\n",
       "   'min': 0.42,\n",
       "   '25%': 20.125,\n",
       "   '50%': 28.0,\n",
       "   '75%': 38.0,\n",
       "   'max': 80.0,\n",
       "   'nullCount': 177,\n",
       "   'dtype': 'float64',\n",
       "   'valueCount': {'16.336 - 24.294': 177,\n",
       "    '24.294 - 32.252': 169,\n",
       "    '32.252 - 40.21': 118,\n",
       "    '40.21 - 48.168': 70,\n",
       "    '0.34 - 8.378': 54,\n",
       "    '8.378 - 16.336': 46,\n",
       "    '48.168 - 56.126': 45,\n",
       "    '56.126 - 64.084': 24,\n",
       "    '64.084 - 72.042': 9,\n",
       "    '72.042 - 80.0': 2}},\n",
       "  'SibSp': {'count': 891.0,\n",
       "   'unique': None,\n",
       "   'top': None,\n",
       "   'freq': None,\n",
       "   'mean': 0.5230078563,\n",
       "   'std': 1.1027434323,\n",
       "   'min': 0.0,\n",
       "   '25%': 0.0,\n",
       "   '50%': 0.0,\n",
       "   '75%': 1.0,\n",
       "   'max': 8.0,\n",
       "   'nullCount': 0,\n",
       "   'dtype': 'int64',\n",
       "   'valueCount': {'0': 608,\n",
       "    '1': 209,\n",
       "    '2': 28,\n",
       "    '4': 18,\n",
       "    '3': 16,\n",
       "    '8': 7,\n",
       "    '5': 5}},\n",
       "  'Parch': {'count': 891.0,\n",
       "   'unique': None,\n",
       "   'top': None,\n",
       "   'freq': None,\n",
       "   'mean': 0.3815937149,\n",
       "   'std': 0.8060572211,\n",
       "   'min': 0.0,\n",
       "   '25%': 0.0,\n",
       "   '50%': 0.0,\n",
       "   '75%': 0.0,\n",
       "   'max': 6.0,\n",
       "   'nullCount': 0,\n",
       "   'dtype': 'int64',\n",
       "   'valueCount': {'0': 678,\n",
       "    '1': 118,\n",
       "    '2': 80,\n",
       "    '5': 5,\n",
       "    '3': 5,\n",
       "    '4': 4,\n",
       "    '6': 1}},\n",
       "  'Ticket': {'count': 891,\n",
       "   'unique': 681,\n",
       "   'top': '1601',\n",
       "   'freq': 7,\n",
       "   'mean': None,\n",
       "   'std': None,\n",
       "   'min': None,\n",
       "   '25%': None,\n",
       "   '50%': None,\n",
       "   '75%': None,\n",
       "   'max': None,\n",
       "   'nullCount': 0,\n",
       "   'dtype': 'object',\n",
       "   'valueCount': None},\n",
       "  'Fare': {'count': 891.0,\n",
       "   'unique': None,\n",
       "   'top': None,\n",
       "   'freq': None,\n",
       "   'mean': 32.2042079686,\n",
       "   'std': 49.6934285972,\n",
       "   'min': 0.0,\n",
       "   '25%': 7.9104,\n",
       "   '50%': 14.4542,\n",
       "   '75%': 31.0,\n",
       "   'max': 512.3292,\n",
       "   'nullCount': 0,\n",
       "   'dtype': 'float64',\n",
       "   'valueCount': {'-0.512 - 51.233': 732,\n",
       "    '51.233 - 102.466': 106,\n",
       "    '102.466 - 153.699': 31,\n",
       "    '204.932 - 256.165': 11,\n",
       "    '256.165 - 307.398': 6,\n",
       "    '461.096 - 512.329': 3,\n",
       "    '153.699 - 204.932': 2,\n",
       "    '409.863 - 461.096': 0,\n",
       "    '358.63 - 409.863': 0,\n",
       "    '307.398 - 358.63': 0}},\n",
       "  'Cabin': {'count': 204,\n",
       "   'unique': 147,\n",
       "   'top': 'B96 B98',\n",
       "   'freq': 4,\n",
       "   'mean': None,\n",
       "   'std': None,\n",
       "   'min': None,\n",
       "   '25%': None,\n",
       "   '50%': None,\n",
       "   '75%': None,\n",
       "   'max': None,\n",
       "   'nullCount': 687,\n",
       "   'dtype': 'object',\n",
       "   'valueCount': None},\n",
       "  'Embarked': {'count': 889,\n",
       "   'unique': 3,\n",
       "   'top': 'S',\n",
       "   'freq': 644,\n",
       "   'mean': None,\n",
       "   'std': None,\n",
       "   'min': None,\n",
       "   '25%': None,\n",
       "   '50%': None,\n",
       "   '75%': None,\n",
       "   'max': None,\n",
       "   'nullCount': 2,\n",
       "   'dtype': 'object',\n",
       "   'valueCount': {'S': 644, 'C': 168, 'Q': 77}}},\n",
       " 'shape': {'numRow': 891, 'numCol': 12}}"
      ]
     },
     "execution_count": 169,
     "metadata": {},
     "output_type": "execute_result"
    }
   ],
   "source": [
    "get_column_info(df)"
   ]
  },
  {
   "cell_type": "code",
   "execution_count": null,
   "metadata": {},
   "outputs": [],
   "source": [
    "describe = df.describe(include='all').to_json(orient=\"columns\")\n",
    "describe = json.loads(describe)"
   ]
  },
  {
   "cell_type": "code",
   "execution_count": 164,
   "metadata": {},
   "outputs": [],
   "source": [
    "def get_describe(df):\n",
    "    describe = df.describe(include='all').to_json(orient=\"columns\")\n",
    "    describe = json.loads(describe)\n",
    "\n",
    "    default_dict = {'count': None,\n",
    "                    'unique': None,\n",
    "                    'top': None,\n",
    "                    'freq': None,\n",
    "                    'mean': None,\n",
    "                    'std': None,\n",
    "                    'min': None,\n",
    "                    '25%': None,\n",
    "                    '50%': None,\n",
    "                    '75%': None,\n",
    "                    'max': None}\n",
    "\n",
    "    result = {}\n",
    "    for col in describe.keys():\n",
    "        result[col] = default_dict.copy()\n",
    "        result[col].update(describe[col])\n",
    "        \n",
    "    return result"
   ]
  },
  {
   "cell_type": "code",
   "execution_count": 165,
   "metadata": {},
   "outputs": [
    {
     "data": {
      "text/plain": [
       "{'PassengerId': {'count': 891.0,\n",
       "  'unique': None,\n",
       "  'top': None,\n",
       "  'freq': None,\n",
       "  'mean': 446.0,\n",
       "  'std': 257.3538420152,\n",
       "  'min': 1.0,\n",
       "  '25%': 223.5,\n",
       "  '50%': 446.0,\n",
       "  '75%': 668.5,\n",
       "  'max': 891.0},\n",
       " 'Survived': {'count': 891.0,\n",
       "  'unique': None,\n",
       "  'top': None,\n",
       "  'freq': None,\n",
       "  'mean': 0.3838383838,\n",
       "  'std': 0.4865924543,\n",
       "  'min': 0.0,\n",
       "  '25%': 0.0,\n",
       "  '50%': 0.0,\n",
       "  '75%': 1.0,\n",
       "  'max': 1.0},\n",
       " 'Pclass': {'count': 891.0,\n",
       "  'unique': None,\n",
       "  'top': None,\n",
       "  'freq': None,\n",
       "  'mean': 2.3086419753,\n",
       "  'std': 0.836071241,\n",
       "  'min': 1.0,\n",
       "  '25%': 2.0,\n",
       "  '50%': 3.0,\n",
       "  '75%': 3.0,\n",
       "  'max': 3.0},\n",
       " 'Name': {'count': 891,\n",
       "  'unique': 891,\n",
       "  'top': 'Weir, Col. John',\n",
       "  'freq': 1,\n",
       "  'mean': None,\n",
       "  'std': None,\n",
       "  'min': None,\n",
       "  '25%': None,\n",
       "  '50%': None,\n",
       "  '75%': None,\n",
       "  'max': None},\n",
       " 'Sex': {'count': 891,\n",
       "  'unique': 2,\n",
       "  'top': 'male',\n",
       "  'freq': 577,\n",
       "  'mean': None,\n",
       "  'std': None,\n",
       "  'min': None,\n",
       "  '25%': None,\n",
       "  '50%': None,\n",
       "  '75%': None,\n",
       "  'max': None},\n",
       " 'Age': {'count': 714.0,\n",
       "  'unique': None,\n",
       "  'top': None,\n",
       "  'freq': None,\n",
       "  'mean': 29.6991176471,\n",
       "  'std': 14.5264973323,\n",
       "  'min': 0.42,\n",
       "  '25%': 20.125,\n",
       "  '50%': 28.0,\n",
       "  '75%': 38.0,\n",
       "  'max': 80.0},\n",
       " 'SibSp': {'count': 891.0,\n",
       "  'unique': None,\n",
       "  'top': None,\n",
       "  'freq': None,\n",
       "  'mean': 0.5230078563,\n",
       "  'std': 1.1027434323,\n",
       "  'min': 0.0,\n",
       "  '25%': 0.0,\n",
       "  '50%': 0.0,\n",
       "  '75%': 1.0,\n",
       "  'max': 8.0},\n",
       " 'Parch': {'count': 891.0,\n",
       "  'unique': None,\n",
       "  'top': None,\n",
       "  'freq': None,\n",
       "  'mean': 0.3815937149,\n",
       "  'std': 0.8060572211,\n",
       "  'min': 0.0,\n",
       "  '25%': 0.0,\n",
       "  '50%': 0.0,\n",
       "  '75%': 0.0,\n",
       "  'max': 6.0},\n",
       " 'Ticket': {'count': 891,\n",
       "  'unique': 681,\n",
       "  'top': '1601',\n",
       "  'freq': 7,\n",
       "  'mean': None,\n",
       "  'std': None,\n",
       "  'min': None,\n",
       "  '25%': None,\n",
       "  '50%': None,\n",
       "  '75%': None,\n",
       "  'max': None},\n",
       " 'Fare': {'count': 891.0,\n",
       "  'unique': None,\n",
       "  'top': None,\n",
       "  'freq': None,\n",
       "  'mean': 32.2042079686,\n",
       "  'std': 49.6934285972,\n",
       "  'min': 0.0,\n",
       "  '25%': 7.9104,\n",
       "  '50%': 14.4542,\n",
       "  '75%': 31.0,\n",
       "  'max': 512.3292},\n",
       " 'Cabin': {'count': 204,\n",
       "  'unique': 147,\n",
       "  'top': 'B96 B98',\n",
       "  'freq': 4,\n",
       "  'mean': None,\n",
       "  'std': None,\n",
       "  'min': None,\n",
       "  '25%': None,\n",
       "  '50%': None,\n",
       "  '75%': None,\n",
       "  'max': None},\n",
       " 'Embarked': {'count': 889,\n",
       "  'unique': 3,\n",
       "  'top': 'S',\n",
       "  'freq': 644,\n",
       "  'mean': None,\n",
       "  'std': None,\n",
       "  'min': None,\n",
       "  '25%': None,\n",
       "  '50%': None,\n",
       "  '75%': None,\n",
       "  'max': None}}"
      ]
     },
     "execution_count": 165,
     "metadata": {},
     "output_type": "execute_result"
    }
   ],
   "source": [
    "get_describe(df)"
   ]
  },
  {
   "cell_type": "code",
   "execution_count": 161,
   "metadata": {},
   "outputs": [
    {
     "name": "stdout",
     "output_type": "stream",
     "text": [
      "PassengerId valueCount {'0.11 - 90.0': 90, '802.0 - 891.0': 89, '713.0 - 802.0': 89, '624.0 - 713.0': 89, '535.0 - 624.0': 89, '446.0 - 535.0': 89, '357.0 - 446.0': 89, '268.0 - 357.0': 89, '179.0 - 268.0': 89, '90.0 - 179.0': 89}\n",
      "============================================================\n",
      "Survived valueCount {'0': 549, '1': 342}\n",
      "============================================================\n",
      "Pclass valueCount {'3': 491, '1': 216, '2': 184}\n",
      "============================================================\n",
      "Name valueCount None\n",
      "============================================================\n",
      "Sex valueCount {'male': 577, 'female': 314}\n",
      "============================================================\n",
      "Age valueCount {'16.336 - 24.294': 177, '24.294 - 32.252': 169, '32.252 - 40.21': 118, '40.21 - 48.168': 70, '0.34 - 8.378': 54, '8.378 - 16.336': 46, '48.168 - 56.126': 45, '56.126 - 64.084': 24, '64.084 - 72.042': 9, '72.042 - 80.0': 2}\n",
      "============================================================\n",
      "SibSp valueCount {'0': 608, '1': 209, '2': 28, '4': 18, '3': 16, '8': 7, '5': 5}\n",
      "============================================================\n",
      "Parch valueCount {'0': 678, '1': 118, '2': 80, '5': 5, '3': 5, '4': 4, '6': 1}\n",
      "============================================================\n",
      "Ticket valueCount None\n",
      "============================================================\n",
      "Fare valueCount {'-0.512 - 51.233': 732, '51.233 - 102.466': 106, '102.466 - 153.699': 31, '204.932 - 256.165': 11, '256.165 - 307.398': 6, '461.096 - 512.329': 3, '153.699 - 204.932': 2, '409.863 - 461.096': 0, '358.63 - 409.863': 0, '307.398 - 358.63': 0}\n",
      "============================================================\n",
      "Cabin valueCount None\n",
      "============================================================\n",
      "Embarked valueCount {'S': 644, 'C': 168, 'Q': 77}\n",
      "============================================================\n"
     ]
    }
   ],
   "source": [
    "info_dict = {\"valueCount\": value_count}\n",
    "\n",
    "tmp_json = describe\n",
    "\n",
    "for key, value in info_dict.items():\n",
    "    for col in value.keys():\n",
    "        tmp_json[col][key] = value[col]\n",
    "        print(col ,key, value[col])\n",
    "        print(\"======\"*10)"
   ]
  },
  {
   "cell_type": "code",
   "execution_count": 103,
   "metadata": {},
   "outputs": [
    {
     "data": {
      "text/plain": [
       "{'columnInfo': {'PassengerId': {'count': 889,\n",
       "   'unique': 3,\n",
       "   'top': 'S',\n",
       "   'freq': 644,\n",
       "   'mean': None,\n",
       "   'std': None,\n",
       "   'min': None,\n",
       "   '25%': None,\n",
       "   '50%': None,\n",
       "   '75%': None,\n",
       "   'max': None,\n",
       "   'nullCount': 2,\n",
       "   'dtype': 'object',\n",
       "   'valueCount': {'S': 644, 'C': 168, 'Q': 77}},\n",
       "  'Survived': {'count': 889,\n",
       "   'unique': 3,\n",
       "   'top': 'S',\n",
       "   'freq': 644,\n",
       "   'mean': None,\n",
       "   'std': None,\n",
       "   'min': None,\n",
       "   '25%': None,\n",
       "   '50%': None,\n",
       "   '75%': None,\n",
       "   'max': None,\n",
       "   'nullCount': 2,\n",
       "   'dtype': 'object',\n",
       "   'valueCount': {'S': 644, 'C': 168, 'Q': 77}},\n",
       "  'Pclass': {'count': 889,\n",
       "   'unique': 3,\n",
       "   'top': 'S',\n",
       "   'freq': 644,\n",
       "   'mean': None,\n",
       "   'std': None,\n",
       "   'min': None,\n",
       "   '25%': None,\n",
       "   '50%': None,\n",
       "   '75%': None,\n",
       "   'max': None,\n",
       "   'nullCount': 2,\n",
       "   'dtype': 'object',\n",
       "   'valueCount': {'S': 644, 'C': 168, 'Q': 77}},\n",
       "  'Name': {'count': 889,\n",
       "   'unique': 3,\n",
       "   'top': 'S',\n",
       "   'freq': 644,\n",
       "   'mean': None,\n",
       "   'std': None,\n",
       "   'min': None,\n",
       "   '25%': None,\n",
       "   '50%': None,\n",
       "   '75%': None,\n",
       "   'max': None,\n",
       "   'nullCount': 2,\n",
       "   'dtype': 'object',\n",
       "   'valueCount': {'S': 644, 'C': 168, 'Q': 77}},\n",
       "  'Sex': {'count': 889,\n",
       "   'unique': 3,\n",
       "   'top': 'S',\n",
       "   'freq': 644,\n",
       "   'mean': None,\n",
       "   'std': None,\n",
       "   'min': None,\n",
       "   '25%': None,\n",
       "   '50%': None,\n",
       "   '75%': None,\n",
       "   'max': None,\n",
       "   'nullCount': 2,\n",
       "   'dtype': 'object',\n",
       "   'valueCount': {'S': 644, 'C': 168, 'Q': 77}},\n",
       "  'Age': {'count': 889,\n",
       "   'unique': 3,\n",
       "   'top': 'S',\n",
       "   'freq': 644,\n",
       "   'mean': None,\n",
       "   'std': None,\n",
       "   'min': None,\n",
       "   '25%': None,\n",
       "   '50%': None,\n",
       "   '75%': None,\n",
       "   'max': None,\n",
       "   'nullCount': 2,\n",
       "   'dtype': 'object',\n",
       "   'valueCount': {'S': 644, 'C': 168, 'Q': 77}},\n",
       "  'SibSp': {'count': 889,\n",
       "   'unique': 3,\n",
       "   'top': 'S',\n",
       "   'freq': 644,\n",
       "   'mean': None,\n",
       "   'std': None,\n",
       "   'min': None,\n",
       "   '25%': None,\n",
       "   '50%': None,\n",
       "   '75%': None,\n",
       "   'max': None,\n",
       "   'nullCount': 2,\n",
       "   'dtype': 'object',\n",
       "   'valueCount': {'S': 644, 'C': 168, 'Q': 77}},\n",
       "  'Parch': {'count': 889,\n",
       "   'unique': 3,\n",
       "   'top': 'S',\n",
       "   'freq': 644,\n",
       "   'mean': None,\n",
       "   'std': None,\n",
       "   'min': None,\n",
       "   '25%': None,\n",
       "   '50%': None,\n",
       "   '75%': None,\n",
       "   'max': None,\n",
       "   'nullCount': 2,\n",
       "   'dtype': 'object',\n",
       "   'valueCount': {'S': 644, 'C': 168, 'Q': 77}},\n",
       "  'Ticket': {'count': 889,\n",
       "   'unique': 3,\n",
       "   'top': 'S',\n",
       "   'freq': 644,\n",
       "   'mean': None,\n",
       "   'std': None,\n",
       "   'min': None,\n",
       "   '25%': None,\n",
       "   '50%': None,\n",
       "   '75%': None,\n",
       "   'max': None,\n",
       "   'nullCount': 2,\n",
       "   'dtype': 'object',\n",
       "   'valueCount': {'S': 644, 'C': 168, 'Q': 77}},\n",
       "  'Fare': {'count': 889,\n",
       "   'unique': 3,\n",
       "   'top': 'S',\n",
       "   'freq': 644,\n",
       "   'mean': None,\n",
       "   'std': None,\n",
       "   'min': None,\n",
       "   '25%': None,\n",
       "   '50%': None,\n",
       "   '75%': None,\n",
       "   'max': None,\n",
       "   'nullCount': 2,\n",
       "   'dtype': 'object',\n",
       "   'valueCount': {'S': 644, 'C': 168, 'Q': 77}},\n",
       "  'Cabin': {'count': 889,\n",
       "   'unique': 3,\n",
       "   'top': 'S',\n",
       "   'freq': 644,\n",
       "   'mean': None,\n",
       "   'std': None,\n",
       "   'min': None,\n",
       "   '25%': None,\n",
       "   '50%': None,\n",
       "   '75%': None,\n",
       "   'max': None,\n",
       "   'nullCount': 2,\n",
       "   'dtype': 'object',\n",
       "   'valueCount': {'S': 644, 'C': 168, 'Q': 77}},\n",
       "  'Embarked': {'count': 889,\n",
       "   'unique': 3,\n",
       "   'top': 'S',\n",
       "   'freq': 644,\n",
       "   'mean': None,\n",
       "   'std': None,\n",
       "   'min': None,\n",
       "   '25%': None,\n",
       "   '50%': None,\n",
       "   '75%': None,\n",
       "   'max': None,\n",
       "   'nullCount': 2,\n",
       "   'dtype': 'object',\n",
       "   'valueCount': {'S': 644, 'C': 168, 'Q': 77}}},\n",
       " 'shape': {'numRow': 891, 'numCol': 12}}"
      ]
     },
     "execution_count": 103,
     "metadata": {},
     "output_type": "execute_result"
    }
   ],
   "source": [
    "get_column_info(df)"
   ]
  },
  {
   "cell_type": "code",
   "execution_count": 171,
   "metadata": {},
   "outputs": [
    {
     "data": {
      "text/plain": [
       "{'Age': {'16.336 - 24.294': 177,\n",
       "  '24.294 - 32.252': 169,\n",
       "  '32.252 - 40.21': 118,\n",
       "  '40.21 - 48.168': 70,\n",
       "  '0.34 - 8.378': 54,\n",
       "  '8.378 - 16.336': 46,\n",
       "  '48.168 - 56.126': 45,\n",
       "  '56.126 - 64.084': 24,\n",
       "  '64.084 - 72.042': 9,\n",
       "  '72.042 - 80.0': 2}}"
      ]
     },
     "execution_count": 171,
     "metadata": {},
     "output_type": "execute_result"
    }
   ],
   "source": [
    "get_value_counts(df[[\"Age\"]])"
   ]
  },
  {
   "cell_type": "code",
   "execution_count": 174,
   "metadata": {},
   "outputs": [
    {
     "data": {
      "text/plain": [
       "<bound method hist_series of 0      22.0\n",
       "1      38.0\n",
       "2      26.0\n",
       "3      35.0\n",
       "4      35.0\n",
       "       ... \n",
       "886    27.0\n",
       "887    19.0\n",
       "888     NaN\n",
       "889    26.0\n",
       "890    32.0\n",
       "Name: Age, Length: 891, dtype: float64>"
      ]
     },
     "execution_count": 174,
     "metadata": {},
     "output_type": "execute_result"
    }
   ],
   "source": [
    "df[\"Age\"].hist"
   ]
  },
  {
   "cell_type": "code",
   "execution_count": 181,
   "metadata": {},
   "outputs": [
    {
     "data": {
      "text/plain": [
       "<AxesSubplot:>"
      ]
     },
     "execution_count": 181,
     "metadata": {},
     "output_type": "execute_result"
    },
    {
     "data": {
      "image/png": "[encoded data removed]",
      "text/plain": [
       "<Figure size 432x288 with 1 Axes>"
      ]
     },
     "metadata": {
      "needs_background": "light"
     },
     "output_type": "display_data"
    }
   ],
   "source": [
    "df[\"Age\"].hist(bins = 10)"
   ]
  },
  {
   "cell_type": "code",
   "execution_count": null,
   "metadata": {},
   "outputs": [],
   "source": []
  }
 ],
 "metadata": {
  "kernelspec": {
   "display_name": "datacentro_sample",
   "language": "python",
   "name": "datacentro_sample"
  },
  "language_info": {
   "codemirror_mode": {
    "name": "ipython",
    "version": 3
   },
   "file_extension": ".py",
   "mimetype": "text/x-python",
   "name": "python",
   "nbconvert_exporter": "python",
   "pygments_lexer": "ipython3",
   "version": "3.8.0"
  }
 },
 "nbformat": 4,
 "nbformat_minor": 4
}
