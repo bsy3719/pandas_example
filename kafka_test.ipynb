{
 "cells": [
  {
   "cell_type": "code",
   "execution_count": 1,
   "metadata": {},
   "outputs": [],
   "source": [
    "from kafka import KafkaProducer\n",
    "import json"
   ]
  },
  {
   "cell_type": "code",
   "execution_count": 2,
   "metadata": {
    "tags": []
   },
   "outputs": [],
   "source": [
    "producer = KafkaProducer(bootstrap_servers=['127.0.0.1:9092'],\n",
    "                              value_serializer=lambda m: json.dumps(m).encode('utf-8'))"
   ]
  },
  {
   "cell_type": "code",
   "execution_count": 3,
   "metadata": {},
   "outputs": [],
   "source": [
    "headers = [\n",
    "    # ('eventType', b'\"loadDataEvent\"'),\n",
    "    ('contentType', b'\"application/json\"'),\n",
    "    ('eventType', b'\"loadDataEvent\"'),\n",
    "    ('spring_json_header_types', b'{\"eventType\": \"java.lang.String\", \"contentType\": \"java.lang.String\"}')]"
   ]
  },
  {
   "cell_type": "code",
   "execution_count": null,
   "metadata": {},
   "outputs": [],
   "source": [
    "REQEUST_ADD_TOPIC = \"addRequest\"\n",
    "RESPONSE_ADD_TOPIC = \"addResponse\""
   ]
  },
  {
   "cell_type": "code",
   "execution_count": 17,
   "metadata": {},
   "outputs": [],
   "source": [
    "request_write_file_topic = \"dataWriteRequest\"\n",
    "response_write_file_topic = \"dataWriteResponse\""
   ]
  },
  {
   "cell_type": "code",
   "execution_count": 11,
   "metadata": {},
   "outputs": [],
   "source": [
    "json = dict(\n",
    "  path = \"/Users/baek/git/datacentro/data-centro-python/sample/titanic_set.csv\",\n",
    "  targetColumn1 = \"Parch\",\n",
    "  targetColumn2 = \"SibSp\",\n",
    "  applyColumn = \"Family\"\n",
    ")"
   ]
  },
  {
   "cell_type": "code",
   "execution_count": 15,
   "metadata": {},
   "outputs": [],
   "source": [
    "path = \"/Users/baek/git/datacentro/data-centro-python/sample/titanic_set.csv\"\n",
    "use_column =['PassengerId', 'Survived', 'Pclass', 'Name']\n",
    "column_type = ['int64', 'int64', 'int64', 'object']\n",
    "order_column = ['PassengerId', 'Survived', 'Pclass', 'Name']\n",
    "rename_column = ['PassengerId', 'Survived', 'Pclass', 'Name']\n",
    "write_path = \"/Users/baek/git/datacentro/data-centro-python/sample/write.csv\"\n",
    "sep = \",\"\n",
    "encoding = \"utf-8\" "
   ]
  },
  {
   "cell_type": "code",
   "execution_count": 24,
   "metadata": {},
   "outputs": [
    {
     "data": {
      "text/plain": [
       "<kafka.producer.future.FutureRecordMetadata at 0x7fcda0966700>"
      ]
     },
     "execution_count": 24,
     "metadata": {},
     "output_type": "execute_result"
    }
   ],
   "source": [
    "import json\n",
    "from kafka import KafkaProducer\n",
    "\n",
    "producer = KafkaProducer(bootstrap_servers=['127.0.0.1:9092'], value_serializer=lambda v: json.dumps(v).encode('utf-8'))\n",
    "producer.send('fizzbuzz', {'foo': 'bar'}, headers=headers)"
   ]
  },
  {
   "cell_type": "code",
   "execution_count": 25,
   "metadata": {},
   "outputs": [],
   "source": [
    "sample = dict(\n",
    "  path = \"/Users/baek/git/datacentro/data-centro-python/sample/titanic_set.csv\",\n",
    "  targetColumn1 = \"Parch\",\n",
    "  targetColumn2 = \"SibSp\",\n",
    "  applyColumn = \"Family\"\n",
    ")"
   ]
  },
  {
   "cell_type": "code",
   "execution_count": 23,
   "metadata": {},
   "outputs": [
    {
     "data": {
      "text/plain": [
       "{'path': '/Users/baek/git/datacentro/data-centro-python/sample/titanic_set.csv',\n",
       " 'targetColumn1': 'Parch',\n",
       " 'targetColumn2': 'SibSp',\n",
       " 'applyColumn': 'Family'}"
      ]
     },
     "execution_count": 23,
     "metadata": {},
     "output_type": "execute_result"
    }
   ],
   "source": [
    "sample"
   ]
  },
  {
   "cell_type": "code",
   "execution_count": 27,
   "metadata": {},
   "outputs": [
    {
     "data": {
      "text/plain": [
       "<kafka.producer.future.FutureRecordMetadata at 0x7fcda09c5e50>"
      ]
     },
     "execution_count": 27,
     "metadata": {},
     "output_type": "execute_result"
    }
   ],
   "source": [
    "producer.send(REQEUST_ADD_TOPIC, sample, headers=headers)"
   ]
  },
  {
   "cell_type": "code",
   "execution_count": null,
   "metadata": {},
   "outputs": [],
   "source": []
  }
 ],
 "metadata": {
  "kernelspec": {
   "display_name": "datacentro_sample",
   "language": "python",
   "name": "datacentro_sample"
  },
  "language_info": {
   "codemirror_mode": {
    "name": "ipython",
    "version": 3
   },
   "file_extension": ".py",
   "mimetype": "text/x-python",
   "name": "python",
   "nbconvert_exporter": "python",
   "pygments_lexer": "ipython3",
   "version": "3.8.8"
  }
 },
 "nbformat": 4,
 "nbformat_minor": 4
}
