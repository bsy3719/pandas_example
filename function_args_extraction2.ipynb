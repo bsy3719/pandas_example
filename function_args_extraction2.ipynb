{
 "cells": [
  {
   "cell_type": "code",
   "execution_count": 14,
   "metadata": {},
   "outputs": [],
   "source": [
    "from sklearn.preprocessing import MinMaxScaler\n",
    "from sklearn.preprocessing import StandardScaler\n",
    "\n",
    "from functools import wraps\n",
    "from inspect import signature\n",
    "import inspect"
   ]
  },
  {
   "cell_type": "code",
   "execution_count": 37,
   "metadata": {},
   "outputs": [],
   "source": [
    "def scaling(df, how:list = [\"minmax\", \"standard\"]):\n",
    "    if how == \"minmax\":\n",
    "        scaler = MinMaxScaler\n",
    "        return scaler.fit_transform(df)\n",
    "    elif how == \"standard\":\n",
    "        scaler = StandardScaler\n",
    "        return scaler.fit_transform(df)"
   ]
  },
  {
   "cell_type": "code",
   "execution_count": 38,
   "metadata": {},
   "outputs": [],
   "source": [
    "from functools import wraps\n",
    "from inspect import signature\n",
    "\n",
    "    \n",
    "def param_info(func):\n",
    "    sig = signature(func)\n",
    "    for param in sig.parameters.values():\n",
    "        print(param.name)\n",
    "        print(' -', param.default)\n",
    "        print(' -', param.kind)\n",
    "\n",
    "\n",
    "def safe_param(func):\n",
    "    ok_args = False\n",
    "    ok_kwargs = False\n",
    "    \n",
    "    list_params = []\n",
    "    keyword_params = set()\n",
    "    \n",
    "    sig = signature(func)\n",
    "    for param in sig.parameters.values():\n",
    "        if param.kind == param.VAR_POSITIONAL:\n",
    "            ok_args = True\n",
    "        if param.kind == param.VAR_KEYWORD:\n",
    "            ok_kwargs = True\n",
    "            \n",
    "        if param.kind in [param.POSITIONAL_OR_KEYWORD]:\n",
    "            list_params.append(param.name)\n",
    "        if param.kind in [param.POSITIONAL_OR_KEYWORD, param.KEYWORD_ONLY]:\n",
    "            keyword_params.add(param.name)\n",
    "            \n",
    "    def get_default_value(param_name):\n",
    "        original = sig.parameters[param_name]\n",
    "        no_default = original.default is original.empty\n",
    "        return None if original.default is original.empty else original.default\n",
    "            \n",
    "    @wraps(func)\n",
    "    def wrap(*args, **kwargs):\n",
    "        if not ok_args:\n",
    "            args = args[:len(list_params)]\n",
    "        \n",
    "        if not ok_kwargs:\n",
    "            temp = {k: v for k, v in kwargs.items() if k in keyword_params}\n",
    "            kwargs = temp\n",
    "        \n",
    "        if len(args) < len(list_params):\n",
    "            not_set_list_params = list_params[len(args):]\n",
    "            for param in not_set_list_params:\n",
    "                if param in kwargs:\n",
    "                    continue\n",
    "                    \n",
    "                kwargs[param] = get_default_value(param)\n",
    "        \n",
    "        not_set_keyword_params = keyword_params - set(list_params) - set(kwargs.keys())\n",
    "        for param in not_set_keyword_params:\n",
    "            kwargs[param] = get_default_value(param)\n",
    "        \n",
    "        return func(*args, **kwargs)\n",
    "    return wrap"
   ]
  },
  {
   "cell_type": "code",
   "execution_count": 11,
   "metadata": {},
   "outputs": [
    {
     "name": "stdout",
     "output_type": "stream",
     "text": [
      "df\n",
      " - <class 'inspect._empty'>\n",
      " - POSITIONAL_OR_KEYWORD\n",
      "how\n",
      " - ['minmax', 'standard']\n",
      " - POSITIONAL_OR_KEYWORD\n"
     ]
    }
   ],
   "source": [
    "param_info(scaling)"
   ]
  },
  {
   "cell_type": "code",
   "execution_count": 12,
   "metadata": {},
   "outputs": [
    {
     "data": {
      "text/plain": [
       "<function __main__.scaling(df, how=['minmax', 'standard'])>"
      ]
     },
     "execution_count": 12,
     "metadata": {},
     "output_type": "execute_result"
    }
   ],
   "source": [
    "safe_param(scaling)"
   ]
  },
  {
   "cell_type": "code",
   "execution_count": 20,
   "metadata": {},
   "outputs": [
    {
     "ename": "NameError",
     "evalue": "name 'POSITIONAL_ONLY' is not defined",
     "output_type": "error",
     "traceback": [
      "\u001b[1;31m---------------------------------------------------------------------------\u001b[0m",
      "\u001b[1;31mNameError\u001b[0m                                 Traceback (most recent call last)",
      "\u001b[1;32m<ipython-input-20-477effae4686>\u001b[0m in \u001b[0;36m<module>\u001b[1;34m\u001b[0m\n\u001b[1;32m----> 1\u001b[1;33m \u001b[0minspect\u001b[0m\u001b[1;33m.\u001b[0m\u001b[0mParameter\u001b[0m\u001b[1;33m(\u001b[0m\u001b[0mscaling\u001b[0m\u001b[1;33m,\u001b[0m \u001b[0mkind\u001b[0m\u001b[1;33m=\u001b[0m\u001b[0mPOSITIONAL_ONLY\u001b[0m\u001b[1;33m)\u001b[0m\u001b[1;33m\u001b[0m\u001b[1;33m\u001b[0m\u001b[0m\n\u001b[0m",
      "\u001b[1;31mNameError\u001b[0m: name 'POSITIONAL_ONLY' is not defined"
     ]
    }
   ],
   "source": [
    "inspect.Parameter(scaling, kind=POSITIONAL_ONLY)"
   ]
  },
  {
   "cell_type": "code",
   "execution_count": 43,
   "metadata": {},
   "outputs": [],
   "source": [
    "def param_info(func):\n",
    "    sig = signature(func)\n",
    "    for param in sig.parameters.values():\n",
    "        print(param.name)\n",
    "        print(' -', param.default)\n",
    "        print(' -', param.kind)\n",
    "        print(' -', param.annotation)\n",
    "\n"
   ]
  },
  {
   "cell_type": "code",
   "execution_count": 44,
   "metadata": {},
   "outputs": [
    {
     "name": "stdout",
     "output_type": "stream",
     "text": [
      "df\n",
      " - <class 'inspect._empty'>\n",
      " - POSITIONAL_OR_KEYWORD\n",
      " - <class 'inspect._empty'>\n",
      "how\n",
      " - ['minmax', 'standard']\n",
      " - POSITIONAL_OR_KEYWORD\n",
      " - <class 'list'>\n"
     ]
    }
   ],
   "source": [
    "param_info(scaling)"
   ]
  },
  {
   "cell_type": "code",
   "execution_count": null,
   "metadata": {},
   "outputs": [],
   "source": []
  }
 ],
 "metadata": {
  "kernelspec": {
   "display_name": "Python 3",
   "language": "python",
   "name": "python3"
  },
  "language_info": {
   "codemirror_mode": {
    "name": "ipython",
    "version": 3
   },
   "file_extension": ".py",
   "mimetype": "text/x-python",
   "name": "python",
   "nbconvert_exporter": "python",
   "pygments_lexer": "ipython3",
   "version": "3.8.5"
  }
 },
 "nbformat": 4,
 "nbformat_minor": 4
}
