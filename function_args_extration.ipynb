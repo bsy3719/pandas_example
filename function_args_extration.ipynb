{
 "cells": [
  {
   "cell_type": "code",
   "execution_count": 1,
   "metadata": {},
   "outputs": [],
   "source": [
    "\n",
    "def plusAge(df, num):\n",
    "    return df[\"age\"] + num"
   ]
  },
  {
   "cell_type": "code",
   "execution_count": 16,
   "metadata": {},
   "outputs": [
    {
     "data": {
      "text/plain": [
       "0       59\n",
       "1       37\n",
       "2       26\n",
       "3       54\n",
       "4       25\n",
       "        ..\n",
       "7229    26\n",
       "7230    29\n",
       "7231    60\n",
       "7232    38\n",
       "7233    26\n",
       "Length: 7234, dtype: int64"
      ]
     },
     "execution_count": 16,
     "metadata": {},
     "output_type": "execute_result"
    }
   ],
   "source": [
    "bank_df.apply(plusAge, args=(1,), axis=1)"
   ]
  },
  {
   "cell_type": "code",
   "execution_count": null,
   "metadata": {},
   "outputs": [],
   "source": [
    "def replace(df, org_test, des_test):\n",
    "    #f\n",
    "    return df.replace(tmp1, tmp2)"
   ]
  },
  {
   "cell_type": "code",
   "execution_count": null,
   "metadata": {},
   "outputs": [],
   "source": [
    "class Test():\n",
    "    def replace(df, tmp1, tmp2):\n",
    "        return df.replace(tmp1, tmp2)"
   ]
  },
  {
   "cell_type": "code",
   "execution_count": null,
   "metadata": {},
   "outputs": [],
   "source": [
    "print(Test.replace.__code__.co_argcount)\n",
    "print(Test.replace.__code__.co_varnames)\n",
    "print(Test.replace.__code__.co_varnames[0])\n",
    "print(Test.replace.__code__.co_varnames[1])\n",
    "print(Test.replace.__code__.co_varnames[1].isalpha())\n",
    "print(Test.replace.__code__.co_varnames[2])\n",
    "print(Test.replace.__code__.co_filename)\n",
    "print(Test.replace.__code__.co_consts)"
   ]
  }
 ],
 "metadata": {
  "kernelspec": {
   "display_name": "datacentro_sample",
   "language": "python",
   "name": "datacentro_sample"
  },
  "language_info": {
   "codemirror_mode": {
    "name": "ipython",
    "version": 3
   },
   "file_extension": ".py",
   "mimetype": "text/x-python",
   "name": "python",
   "nbconvert_exporter": "python",
   "pygments_lexer": "ipython3",
   "version": "3.8.0"
  }
 },
 "nbformat": 4,
 "nbformat_minor": 4
}
