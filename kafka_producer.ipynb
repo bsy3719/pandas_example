{
 "cells": [
  {
   "cell_type": "markdown",
   "metadata": {},
   "source": [
    "### Kafka Producer 테스트"
   ]
  },
  {
   "cell_type": "code",
   "execution_count": 1,
   "metadata": {},
   "outputs": [],
   "source": [
    "from kafka import KafkaProducer\n",
    "import json"
   ]
  },
  {
   "cell_type": "code",
   "execution_count": 2,
   "metadata": {
    "tags": []
   },
   "outputs": [],
   "source": [
    "producer = KafkaProducer(bootstrap_servers=['127.0.0.1:9092'],\n",
    "                              value_serializer=lambda m: json.dumps(m).encode('utf-8'))"
   ]
  },
  {
   "cell_type": "code",
   "execution_count": 40,
   "metadata": {},
   "outputs": [],
   "source": [
    "headers = [\n",
    "    # ('eventType', b'\"loadDataEvent\"'),\n",
    "    ('contentType', b'\"application/json\"'),\n",
    "    ('eventType', b'\"loadDataEvent\"'),\n",
    "    ('spring_json_header_types', b'{\"eventType\": \"java.lang.String\", \"contentType\": \"java.lang.String\"}')]"
   ]
  },
  {
   "cell_type": "code",
   "execution_count": 41,
   "metadata": {},
   "outputs": [],
   "source": [
    "REQEUST_TOPIC = \"binningReqeust\""
   ]
  },
  {
   "cell_type": "code",
   "execution_count": 42,
   "metadata": {},
   "outputs": [],
   "source": [
    "sample = {\n",
    "    \"applyColumn\": \"AgeBand\",\n",
    "    \"numBins\": \"10\",\n",
    "    \"numRow\": \"100\",\n",
    "    \"path\": \"C:\\\\Users\\\\bsy37\\\\git\\\\datacentro\\\\data-centro-python\\\\sample\\\\titanic_set.csv\",\n",
    "    \"targetColumn\": \"Age\"\n",
    "}"
   ]
  },
  {
   "cell_type": "code",
   "execution_count": 43,
   "metadata": {},
   "outputs": [
    {
     "data": {
      "text/plain": [
       "<kafka.producer.future.FutureRecordMetadata at 0x28bc017d220>"
      ]
     },
     "execution_count": 43,
     "metadata": {},
     "output_type": "execute_result"
    }
   ],
   "source": [
    "producer.send(REQEUST_TOPIC, sample, headers=headers)"
   ]
  },
  {
   "cell_type": "code",
   "execution_count": null,
   "metadata": {},
   "outputs": [],
   "source": []
  }
 ],
 "metadata": {
  "kernelspec": {
   "display_name": "kafka",
   "language": "python",
   "name": "kafka"
  },
  "language_info": {
   "codemirror_mode": {
    "name": "ipython",
    "version": 3
   },
   "file_extension": ".py",
   "mimetype": "text/x-python",
   "name": "python",
   "nbconvert_exporter": "python",
   "pygments_lexer": "ipython3",
   "version": "3.8.0"
  }
 },
 "nbformat": 4,
 "nbformat_minor": 4
}
