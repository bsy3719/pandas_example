{
 "cells": [
  {
   "cell_type": "code",
   "execution_count": 1,
   "metadata": {},
   "outputs": [],
   "source": [
    "import pandas as pd"
   ]
  },
  {
   "cell_type": "code",
   "execution_count": 2,
   "metadata": {},
   "outputs": [],
   "source": [
    "df = pd.read_csv(\"./data/titanic.csv\")"
   ]
  },
  {
   "cell_type": "code",
   "execution_count": 9,
   "metadata": {},
   "outputs": [],
   "source": [
    "def get_column_type(df):\n",
    "    return dict(zip(list(df.columns), list(map(str, df.dtypes))))"
   ]
  },
  {
   "cell_type": "code",
   "execution_count": 10,
   "metadata": {},
   "outputs": [
    {
     "data": {
      "text/plain": [
       "{'PassengerId': 'int64',\n",
       " 'Survived': 'int64',\n",
       " 'Pclass': 'int64',\n",
       " 'Name': 'object',\n",
       " 'Sex': 'object',\n",
       " 'Age': 'float64',\n",
       " 'SibSp': 'int64',\n",
       " 'Parch': 'int64',\n",
       " 'Ticket': 'object',\n",
       " 'Fare': 'float64',\n",
       " 'Cabin': 'object',\n",
       " 'Embarked': 'object'}"
      ]
     },
     "execution_count": 10,
     "metadata": {},
     "output_type": "execute_result"
    }
   ],
   "source": [
    "get_column_type(df)"
   ]
  },
  {
   "cell_type": "code",
   "execution_count": 7,
   "metadata": {},
   "outputs": [
    {
     "data": {
      "text/plain": [
       "PassengerId      int64\n",
       "Survived         int64\n",
       "Pclass           int64\n",
       "Name            object\n",
       "Sex             object\n",
       "Age            float64\n",
       "SibSp            int64\n",
       "Parch            int64\n",
       "Ticket          object\n",
       "Fare           float64\n",
       "Cabin           object\n",
       "Embarked        object\n",
       "dtype: object"
      ]
     },
     "execution_count": 7,
     "metadata": {},
     "output_type": "execute_result"
    }
   ],
   "source": [
    "df.dtypes"
   ]
  },
  {
   "cell_type": "code",
   "execution_count": 6,
   "metadata": {},
   "outputs": [
    {
     "data": {
      "text/plain": [
       "{'PassengerId': dtype('int64'),\n",
       " 'Survived': dtype('int64'),\n",
       " 'Pclass': dtype('int64'),\n",
       " 'Name': dtype('O'),\n",
       " 'Sex': dtype('O'),\n",
       " 'Age': dtype('float64'),\n",
       " 'SibSp': dtype('int64'),\n",
       " 'Parch': dtype('int64'),\n",
       " 'Ticket': dtype('O'),\n",
       " 'Fare': dtype('float64'),\n",
       " 'Cabin': dtype('O'),\n",
       " 'Embarked': dtype('O')}"
      ]
     },
     "execution_count": 6,
     "metadata": {},
     "output_type": "execute_result"
    }
   ],
   "source": [
    "dict(df.dtypes)"
   ]
  },
  {
   "cell_type": "code",
   "execution_count": 48,
   "metadata": {},
   "outputs": [],
   "source": [
    "def write_csv_to_nas(df, **kwargs):\n",
    "    params = {\"sep\":\",\", \"index\":False, \"encoding\":  \"utf-8\"}\n",
    "    params.update(**kwargs)\n",
    "\n",
    "    path = \"./test.csv\"\n",
    "    \n",
    "    df.to_csv(path, **params)\n",
    "    return str(path)"
   ]
  },
  {
   "cell_type": "code",
   "execution_count": 49,
   "metadata": {},
   "outputs": [],
   "source": [
    "def get_dtypes(df):\n",
    "    return dict(zip(list(df.columns), list(map(str, df.dtypes))))"
   ]
  },
  {
   "cell_type": "code",
   "execution_count": 50,
   "metadata": {},
   "outputs": [],
   "source": [
    "use_column = ['PassengerId',\n",
    " 'Survived',\n",
    " 'Pclass',\n",
    " 'Name',\n",
    " 'Sex',\n",
    " 'Age']\n",
    "\n",
    "\n",
    "order_column = ['Age', 'Name', 'PassengerId', 'Pclass', 'Sex', 'Survived']\n",
    "\n",
    "rename_column = ['PassengerId_3',\n",
    " 'Survived_6',\n",
    " 'Pclass_4',\n",
    " 'Name_2',\n",
    " 'Sex_5',\n",
    " 'Age_1']\n",
    "\n",
    "column_type = ['object',\n",
    " 'object',\n",
    " 'object',\n",
    " 'object',\n",
    " 'object',\n",
    " 'object']"
   ]
  },
  {
   "cell_type": "code",
   "execution_count": 51,
   "metadata": {},
   "outputs": [],
   "source": [
    "def update_column_name(df, use_list, rename_list):\n",
    "    column_dict = dict(zip(use_list, rename_list))\n",
    "    print(column_dict)\n",
    "    return df.rename(columns=column_dict)\n",
    "\n",
    "def update_column_order(df, column_list):\n",
    "    return df[column_list]\n",
    "\n",
    "def update_column_type(df, type_list):\n",
    "    return df.astype(dict(zip(list(df.columns), type_list)))"
   ]
  },
  {
   "cell_type": "code",
   "execution_count": 52,
   "metadata": {},
   "outputs": [
    {
     "name": "stdout",
     "output_type": "stream",
     "text": [
      "{'PassengerId': 'PassengerId_3', 'Survived': 'Survived_6', 'Pclass': 'Pclass_4', 'Name': 'Name_2', 'Sex': 'Sex_5', 'Age': 'Age_1'}\n"
     ]
    }
   ],
   "source": [
    "df = update_column_type(df, column_type)\n",
    "df = update_column_order(df, order_column)\n",
    "df = update_column_name(df, use_column, rename_column)"
   ]
  },
  {
   "cell_type": "code",
   "execution_count": 53,
   "metadata": {},
   "outputs": [
    {
     "data": {
      "text/html": [
       "<div>\n",
       "<style scoped>\n",
       "    .dataframe tbody tr th:only-of-type {\n",
       "        vertical-align: middle;\n",
       "    }\n",
       "\n",
       "    .dataframe tbody tr th {\n",
       "        vertical-align: top;\n",
       "    }\n",
       "\n",
       "    .dataframe thead th {\n",
       "        text-align: right;\n",
       "    }\n",
       "</style>\n",
       "<table border=\"1\" class=\"dataframe\">\n",
       "  <thead>\n",
       "    <tr style=\"text-align: right;\">\n",
       "      <th></th>\n",
       "      <th>Age_1</th>\n",
       "      <th>Name_2</th>\n",
       "      <th>PassengerId_3</th>\n",
       "      <th>Pclass_4</th>\n",
       "      <th>Sex_5</th>\n",
       "      <th>Survived_6</th>\n",
       "    </tr>\n",
       "  </thead>\n",
       "  <tbody>\n",
       "    <tr>\n",
       "      <th>0</th>\n",
       "      <td>22</td>\n",
       "      <td>Braund, Mr. Owen Harris</td>\n",
       "      <td>1</td>\n",
       "      <td>3</td>\n",
       "      <td>male</td>\n",
       "      <td>0</td>\n",
       "    </tr>\n",
       "    <tr>\n",
       "      <th>1</th>\n",
       "      <td>38</td>\n",
       "      <td>Cumings, Mrs. John Bradley (Florence Briggs Th...</td>\n",
       "      <td>2</td>\n",
       "      <td>1</td>\n",
       "      <td>female</td>\n",
       "      <td>1</td>\n",
       "    </tr>\n",
       "    <tr>\n",
       "      <th>2</th>\n",
       "      <td>26</td>\n",
       "      <td>Heikkinen, Miss. Laina</td>\n",
       "      <td>3</td>\n",
       "      <td>3</td>\n",
       "      <td>female</td>\n",
       "      <td>1</td>\n",
       "    </tr>\n",
       "    <tr>\n",
       "      <th>3</th>\n",
       "      <td>35</td>\n",
       "      <td>Futrelle, Mrs. Jacques Heath (Lily May Peel)</td>\n",
       "      <td>4</td>\n",
       "      <td>1</td>\n",
       "      <td>female</td>\n",
       "      <td>1</td>\n",
       "    </tr>\n",
       "    <tr>\n",
       "      <th>4</th>\n",
       "      <td>35</td>\n",
       "      <td>Allen, Mr. William Henry</td>\n",
       "      <td>5</td>\n",
       "      <td>3</td>\n",
       "      <td>male</td>\n",
       "      <td>0</td>\n",
       "    </tr>\n",
       "    <tr>\n",
       "      <th>...</th>\n",
       "      <td>...</td>\n",
       "      <td>...</td>\n",
       "      <td>...</td>\n",
       "      <td>...</td>\n",
       "      <td>...</td>\n",
       "      <td>...</td>\n",
       "    </tr>\n",
       "    <tr>\n",
       "      <th>886</th>\n",
       "      <td>27</td>\n",
       "      <td>Montvila, Rev. Juozas</td>\n",
       "      <td>887</td>\n",
       "      <td>2</td>\n",
       "      <td>male</td>\n",
       "      <td>0</td>\n",
       "    </tr>\n",
       "    <tr>\n",
       "      <th>887</th>\n",
       "      <td>19</td>\n",
       "      <td>Graham, Miss. Margaret Edith</td>\n",
       "      <td>888</td>\n",
       "      <td>1</td>\n",
       "      <td>female</td>\n",
       "      <td>1</td>\n",
       "    </tr>\n",
       "    <tr>\n",
       "      <th>888</th>\n",
       "      <td>NaN</td>\n",
       "      <td>Johnston, Miss. Catherine Helen \"Carrie\"</td>\n",
       "      <td>889</td>\n",
       "      <td>3</td>\n",
       "      <td>female</td>\n",
       "      <td>0</td>\n",
       "    </tr>\n",
       "    <tr>\n",
       "      <th>889</th>\n",
       "      <td>26</td>\n",
       "      <td>Behr, Mr. Karl Howell</td>\n",
       "      <td>890</td>\n",
       "      <td>1</td>\n",
       "      <td>male</td>\n",
       "      <td>1</td>\n",
       "    </tr>\n",
       "    <tr>\n",
       "      <th>890</th>\n",
       "      <td>32</td>\n",
       "      <td>Dooley, Mr. Patrick</td>\n",
       "      <td>891</td>\n",
       "      <td>3</td>\n",
       "      <td>male</td>\n",
       "      <td>0</td>\n",
       "    </tr>\n",
       "  </tbody>\n",
       "</table>\n",
       "<p>891 rows × 6 columns</p>\n",
       "</div>"
      ],
      "text/plain": [
       "    Age_1                                             Name_2 PassengerId_3  \\\n",
       "0      22                            Braund, Mr. Owen Harris             1   \n",
       "1      38  Cumings, Mrs. John Bradley (Florence Briggs Th...             2   \n",
       "2      26                             Heikkinen, Miss. Laina             3   \n",
       "3      35       Futrelle, Mrs. Jacques Heath (Lily May Peel)             4   \n",
       "4      35                           Allen, Mr. William Henry             5   \n",
       "..    ...                                                ...           ...   \n",
       "886    27                              Montvila, Rev. Juozas           887   \n",
       "887    19                       Graham, Miss. Margaret Edith           888   \n",
       "888   NaN           Johnston, Miss. Catherine Helen \"Carrie\"           889   \n",
       "889    26                              Behr, Mr. Karl Howell           890   \n",
       "890    32                                Dooley, Mr. Patrick           891   \n",
       "\n",
       "    Pclass_4   Sex_5 Survived_6  \n",
       "0          3    male          0  \n",
       "1          1  female          1  \n",
       "2          3  female          1  \n",
       "3          1  female          1  \n",
       "4          3    male          0  \n",
       "..       ...     ...        ...  \n",
       "886        2    male          0  \n",
       "887        1  female          1  \n",
       "888        3  female          0  \n",
       "889        1    male          1  \n",
       "890        3    male          0  \n",
       "\n",
       "[891 rows x 6 columns]"
      ]
     },
     "execution_count": 53,
     "metadata": {},
     "output_type": "execute_result"
    }
   ],
   "source": [
    "df"
   ]
  },
  {
   "cell_type": "code",
   "execution_count": 61,
   "metadata": {},
   "outputs": [
    {
     "data": {
      "text/plain": [
       "Age_1            object\n",
       "Name_2           object\n",
       "PassengerId_3    object\n",
       "Pclass_4         object\n",
       "Sex_5            object\n",
       "Survived_6       object\n",
       "dtype: object"
      ]
     },
     "execution_count": 61,
     "metadata": {},
     "output_type": "execute_result"
    }
   ],
   "source": [
    "df.dtypes"
   ]
  },
  {
   "cell_type": "code",
   "execution_count": 62,
   "metadata": {},
   "outputs": [
    {
     "data": {
      "text/plain": [
       "'./test.csv'"
      ]
     },
     "execution_count": 62,
     "metadata": {},
     "output_type": "execute_result"
    }
   ],
   "source": [
    "write_csv_to_nas(df)"
   ]
  },
  {
   "cell_type": "code",
   "execution_count": null,
   "metadata": {},
   "outputs": [],
   "source": []
  },
  {
   "cell_type": "code",
   "execution_count": 57,
   "metadata": {},
   "outputs": [],
   "source": [
    "df2 = pd.read_csv('./test.csv')"
   ]
  },
  {
   "cell_type": "code",
   "execution_count": 58,
   "metadata": {},
   "outputs": [
    {
     "data": {
      "text/plain": [
       "Age_1            float64\n",
       "Name_2            object\n",
       "PassengerId_3      int64\n",
       "Pclass_4           int64\n",
       "Sex_5             object\n",
       "Survived_6         int64\n",
       "dtype: object"
      ]
     },
     "execution_count": 58,
     "metadata": {},
     "output_type": "execute_result"
    }
   ],
   "source": [
    "df2.dtypes"
   ]
  },
  {
   "cell_type": "code",
   "execution_count": 59,
   "metadata": {},
   "outputs": [
    {
     "data": {
      "text/plain": [
       "['Age_1', 'Name_2', 'PassengerId_3', 'Pclass_4', 'Sex_5', 'Survived_6']"
      ]
     },
     "execution_count": 59,
     "metadata": {},
     "output_type": "execute_result"
    }
   ],
   "source": [
    "list(df2.columns)"
   ]
  },
  {
   "cell_type": "code",
   "execution_count": 60,
   "metadata": {},
   "outputs": [],
   "source": [
    "use_column = ['Age_1', 'Name_2', 'PassengerId_3', 'Pclass_4', 'Sex_5', 'Survived_6']"
   ]
  },
  {
   "cell_type": "code",
   "execution_count": null,
   "metadata": {},
   "outputs": [],
   "source": []
  }
 ],
 "metadata": {
  "kernelspec": {
   "display_name": "datacentro_sample",
   "language": "python",
   "name": "datacentro_sample"
  },
  "language_info": {
   "codemirror_mode": {
    "name": "ipython",
    "version": 3
   },
   "file_extension": ".py",
   "mimetype": "text/x-python",
   "name": "python",
   "nbconvert_exporter": "python",
   "pygments_lexer": "ipython3",
   "version": "3.8.8"
  }
 },
 "nbformat": 4,
 "nbformat_minor": 4
}
