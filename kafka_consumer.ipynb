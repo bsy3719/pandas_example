{
 "cells": [
  {
   "cell_type": "markdown",
   "id": "b8e8dc62-f9d7-43d9-aac7-0deb1102ba1f",
   "metadata": {},
   "source": [
    "### Kafka Consumer 테스트"
   ]
  },
  {
   "cell_type": "code",
   "execution_count": 10,
   "id": "b2977f87-9034-46b1-a413-733cc3ab6798",
   "metadata": {},
   "outputs": [],
   "source": [
    "RESPONSE_TOPIC = \"binningResponse\""
   ]
  },
  {
   "cell_type": "code",
   "execution_count": null,
   "id": "8fb05664-057b-43d6-9e64-ff2921c7ff28",
   "metadata": {},
   "outputs": [
    {
     "name": "stdout",
     "output_type": "stream",
     "text": [
      "ConsumerRecord(topic='binningResponse', partition=0, offset=0, timestamp=1626227463645, timestamp_type=0, key=None, value=b'{\"path\": \"C:\\\\\\\\Users\\\\\\\\bsy37\\\\\\\\git\\\\\\\\datacentro\\\\\\\\data-centro-python\\\\\\\\sample\\\\\\\\binning_cut_105103.csv\", \"columnInfo\": {\"PassengerId\": {\"count\": 891.0, \"unique\": null, \"top\": null, \"freq\": null, \"mean\": 446.0, \"std\": 257.3538420152, \"min\": 1.0, \"25%\": 223.5, \"50%\": 446.0, \"75%\": 668.5, \"max\": 891.0, \"nullCount\": 0, \"dtype\": \"int64\", \"valueCount\": {\"0.11 - 90.0\": 90, \"90.0 - 179.0\": 89, \"179.0 - 268.0\": 89, \"268.0 - 357.0\": 89, \"357.0 - 446.0\": 89, \"446.0 - 535.0\": 89, \"535.0 - 624.0\": 89, \"624.0 - 713.0\": 89, \"713.0 - 802.0\": 89, \"802.0 - 891.0\": 89}}, \"Survived\": {\"count\": 891.0, \"unique\": null, \"top\": null, \"freq\": null, \"mean\": 0.3838383838, \"std\": 0.4865924543, \"min\": 0.0, \"25%\": 0.0, \"50%\": 0.0, \"75%\": 1.0, \"max\": 1.0, \"nullCount\": 0, \"dtype\": \"int64\", \"valueCount\": {\"0\": 549, \"1\": 342}}, \"Pclass\": {\"count\": 891.0, \"unique\": null, \"top\": null, \"freq\": null, \"mean\": 2.3086419753, \"std\": 0.836071241, \"min\": 1.0, \"25%\": 2.0, \"50%\": 3.0, \"75%\": 3.0, \"max\": 3.0, \"nullCount\": 0, \"dtype\": \"int64\", \"valueCount\": {\"1\": 216, \"2\": 184, \"3\": 491}}, \"Name\": {\"count\": 891, \"unique\": 891, \"top\": \"Todoroff, Mr. Lalio\", \"freq\": 1, \"mean\": null, \"std\": null, \"min\": null, \"25%\": null, \"50%\": null, \"75%\": null, \"max\": null, \"nullCount\": 0, \"dtype\": \"object\", \"valueCount\": null}, \"Sex\": {\"count\": 891, \"unique\": 2, \"top\": \"male\", \"freq\": 576, \"mean\": null, \"std\": null, \"min\": null, \"25%\": null, \"50%\": null, \"75%\": null, \"max\": null, \"nullCount\": 0, \"dtype\": \"object\", \"valueCount\": {\"female\": 315, \"male\": 576}}, \"Age\": {\"count\": 714.0, \"unique\": null, \"top\": null, \"freq\": null, \"mean\": 29.6991176471, \"std\": 14.5264973323, \"min\": 0.42, \"25%\": 20.125, \"50%\": 28.0, \"75%\": 38.0, \"max\": 80.0, \"nullCount\": 177, \"dtype\": \"float64\", \"valueCount\": {\"0.34 - 8.378\": 54, \"8.378 - 16.336\": 46, \"16.336 - 24.294\": 177, \"24.294 - 32.252\": 169, \"32.252 - 40.21\": 118, \"40.21 - 48.168\": 70, \"48.168 - 56.126\": 45, \"56.126 - 64.084\": 24, \"64.084 - 72.042\": 9, \"72.042 - 80.0\": 2}}, \"SibSp\": {\"count\": 891.0, \"unique\": null, \"top\": null, \"freq\": null, \"mean\": 0.5230078563, \"std\": 1.1027434323, \"min\": 0.0, \"25%\": 0.0, \"50%\": 0.0, \"75%\": 1.0, \"max\": 8.0, \"nullCount\": 0, \"dtype\": \"int64\", \"valueCount\": {\"0\": 608, \"1\": 209, \"2\": 28, \"3\": 16, \"4\": 18, \"5\": 5, \"8\": 7}}, \"Parch\": {\"count\": 891.0, \"unique\": null, \"top\": null, \"freq\": null, \"mean\": 0.3815937149, \"std\": 0.8060572211, \"min\": 0.0, \"25%\": 0.0, \"50%\": 0.0, \"75%\": 0.0, \"max\": 6.0, \"nullCount\": 0, \"dtype\": \"int64\", \"valueCount\": {\"0\": 678, \"1\": 118, \"2\": 80, \"3\": 5, \"4\": 4, \"5\": 5, \"6\": 1}}, \"Ticket\": {\"count\": 891, \"unique\": 681, \"top\": \"347082\", \"freq\": 7, \"mean\": null, \"std\": null, \"min\": null, \"25%\": null, \"50%\": null, \"75%\": null, \"max\": null, \"nullCount\": 0, \"dtype\": \"object\", \"valueCount\": null}, \"Fare\": {\"count\": 891.0, \"unique\": null, \"top\": null, \"freq\": null, \"mean\": 32.2042079686, \"std\": 49.6934285972, \"min\": 0.0, \"25%\": 7.9104, \"50%\": 14.4542, \"75%\": 31.0, \"max\": 512.3292, \"nullCount\": 0, \"dtype\": \"float64\", \"valueCount\": {\"-0.512 - 51.233\": 732, \"51.233 - 102.466\": 106, \"102.466 - 153.699\": 31, \"153.699 - 204.932\": 2, \"204.932 - 256.165\": 11, \"256.165 - 307.398\": 6, \"307.398 - 358.63\": 0, \"358.63 - 409.863\": 0, \"409.863 - 461.096\": 0, \"461.096 - 512.329\": 3}}, \"Cabin\": {\"count\": 204, \"unique\": 147, \"top\": \"G6\", \"freq\": 4, \"mean\": null, \"std\": null, \"min\": null, \"25%\": null, \"50%\": null, \"75%\": null, \"max\": null, \"nullCount\": 687, \"dtype\": \"object\", \"valueCount\": null}, \"Embarked\": {\"count\": 889, \"unique\": 3, \"top\": \"S\", \"freq\": 644, \"mean\": null, \"std\": null, \"min\": null, \"25%\": null, \"50%\": null, \"75%\": null, \"max\": null, \"nullCount\": 2, \"dtype\": \"object\", \"valueCount\": {\"C\": 168, \"Q\": 77, \"S\": 644}}, \"AgeBand\": {\"count\": 714, \"unique\": 10, \"top\": \"(16.336, 24.294]\", \"freq\": 177, \"mean\": null, \"std\": null, \"min\": null, \"25%\": null, \"50%\": null, \"75%\": null, \"max\": null, \"nullCount\": 177, \"dtype\": \"object\", \"valueCount\": null}}, \"shape\": {\"numRow\": 891, \"numCol\": 13}}', headers=[('contentType', b'\"application/json\"'), ('eventType', b'\"loadDataEvent\"'), ('spring_json_header_types', b'{\"eventType\": \"java.lang.String\", \"contentType\": \"java.lang.String\"}')], checksum=None, serialized_key_size=-1, serialized_value_size=3957, serialized_header_size=145)\n"
     ]
    }
   ],
   "source": [
    "from kafka import KafkaConsumer\n",
    "consumer = KafkaConsumer(RESPONSE_TOPIC)\n",
    "for msg in consumer:\n",
    "    print (msg)"
   ]
  },
  {
   "cell_type": "code",
   "execution_count": null,
   "id": "f173da33-d523-4a89-bcc6-e7e0f12928e7",
   "metadata": {},
   "outputs": [],
   "source": []
  }
 ],
 "metadata": {
  "kernelspec": {
   "display_name": "kafka",
   "language": "python",
   "name": "kafka"
  },
  "language_info": {
   "codemirror_mode": {
    "name": "ipython",
    "version": 3
   },
   "file_extension": ".py",
   "mimetype": "text/x-python",
   "name": "python",
   "nbconvert_exporter": "python",
   "pygments_lexer": "ipython3",
   "version": "3.8.0"
  }
 },
 "nbformat": 4,
 "nbformat_minor": 5
}
