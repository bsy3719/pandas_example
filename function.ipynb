{
 "cells": [
  {
   "cell_type": "markdown",
   "metadata": {},
   "source": [
    "## 함수리스트 생성"
   ]
  },
  {
   "cell_type": "code",
   "execution_count": 5,
   "metadata": {},
   "outputs": [],
   "source": [
    "import pandas as pd\n",
    "import inspect"
   ]
  },
  {
   "cell_type": "code",
   "execution_count": 49,
   "metadata": {},
   "outputs": [],
   "source": [
    "class UserDefinedFunction():\n",
    "    def add(one:str=1, two:int=2):\n",
    "        \"\"\"두개의 인자 값을 더해주는 함수!\n",
    "            꼭 2개의 인자를 넣어주세요.\"\"\"\n",
    "        return one+two\n",
    "\n",
    "    def substr(one:str):\n",
    "        \"\"\"문자를 자르는 함수\n",
    "            꼭 1개의 인자를 넣어주세요.\"\"\"\n",
    "        return one.str[:-2]"
   ]
  },
  {
   "cell_type": "code",
   "execution_count": 52,
   "metadata": {},
   "outputs": [
    {
     "data": {
      "text/plain": [
       "(1, 2)"
      ]
     },
     "execution_count": 52,
     "metadata": {},
     "output_type": "execute_result"
    }
   ],
   "source": [
    "UserDefinedFunction.add.__defaults__"
   ]
  },
  {
   "cell_type": "code",
   "execution_count": 54,
   "metadata": {},
   "outputs": [
    {
     "name": "stdout",
     "output_type": "stream",
     "text": [
      "add\n",
      "<class 'str'>\n",
      "substr\n",
      "<class 'str'>\n"
     ]
    }
   ],
   "source": [
    "function_classes = [UserDefinedFunction]\n",
    "result_dict = {}\n",
    "for function_class in function_classes:\n",
    "    #result_dict[eval(function_class + \".__module__\")] = []\n",
    "    method_list = [method for method in dir(function_class) if not method.startswith('__')]\n",
    "    method_dict = {}\n",
    "\n",
    "    for method in method_list:\n",
    "        attr_dict = {}\n",
    "        print(method)\n",
    "        print(type(method))\n",
    "        method = eval(function_class.__name__ + \".\" + method)\n",
    "        attr_dict[\"parameters\"] = list(method.__code__.co_varnames)\n",
    "        attr_dict[\"comment\"] = method.__doc__\n",
    "        attr_dict[\"len\"] = method.__code__.co_argcount\n",
    "        attr_dict[\"defaults\"] = []\n",
    "        \n",
    "        if method.__defaults__:\n",
    "            attr_dict[\"defaults\"].append(list(method.__defaults__))\n",
    "        \n",
    "        value_list = []\n",
    "        for value in list(method.__annotations__.values()):\n",
    "            value_list.append(str(value).split()[1][1:-2])\n",
    "        attr_dict[\"annotations\"] = value_list\n",
    "        \n",
    "        method_dict[method.__name__] = attr_dict\n",
    "\n",
    "        result_dict[function_class.__name__] = method_dict"
   ]
  },
  {
   "cell_type": "code",
   "execution_count": 55,
   "metadata": {},
   "outputs": [
    {
     "data": {
      "text/plain": [
       "{'UserDefinedFunction': {'add': {'parameters': ['one', 'two'],\n",
       "   'comment': '두개의 인자 값을 더해주는 함수!\\n            꼭 2개의 인자를 넣어주세요.',\n",
       "   'len': 2,\n",
       "   'defaults': [[1, 2]],\n",
       "   'annotations': ['str', 'int']},\n",
       "  'substr': {'parameters': ['one'],\n",
       "   'comment': '문자를 자르는 함수\\n            꼭 1개의 인자를 넣어주세요.',\n",
       "   'len': 1,\n",
       "   'defaults': [],\n",
       "   'annotations': ['str']}}}"
      ]
     },
     "execution_count": 55,
     "metadata": {},
     "output_type": "execute_result"
    }
   ],
   "source": [
    "result_dict"
   ]
  },
  {
   "cell_type": "markdown",
   "metadata": {},
   "source": [
    "## .py 파일 불러오기 -> 추후 파일 안의 클래스 읽기 필요함"
   ]
  },
  {
   "cell_type": "code",
   "execution_count": 43,
   "metadata": {},
   "outputs": [],
   "source": [
    "import os\n",
    " \n",
    "path_dir = './function'\n",
    " \n",
    "file_list = os.listdir(path_dir)"
   ]
  },
  {
   "cell_type": "code",
   "execution_count": 48,
   "metadata": {},
   "outputs": [],
   "source": [
    "file_list = [file[:-3] for file in file_list if file.endswith(\"py\")]"
   ]
  },
  {
   "cell_type": "code",
   "execution_count": 49,
   "metadata": {},
   "outputs": [
    {
     "data": {
      "text/plain": [
       "['read_function', 'user_defined_function', 'write_function']"
      ]
     },
     "execution_count": 49,
     "metadata": {},
     "output_type": "execute_result"
    }
   ],
   "source": [
    "file_list"
   ]
  },
  {
   "cell_type": "markdown",
   "metadata": {},
   "source": [
    "## apply 적용"
   ]
  },
  {
   "cell_type": "code",
   "execution_count": 58,
   "metadata": {},
   "outputs": [],
   "source": [
    "import pandas as pd"
   ]
  },
  {
   "cell_type": "code",
   "execution_count": 60,
   "metadata": {},
   "outputs": [],
   "source": [
    "df = pd.read_csv(\"./data/titanic.csv\")"
   ]
  },
  {
   "cell_type": "code",
   "execution_count": 63,
   "metadata": {},
   "outputs": [
    {
     "data": {
      "text/plain": [
       "Index(['PassengerId', 'Survived', 'Pclass', 'Name', 'Sex', 'Age', 'SibSp',\n",
       "       'Parch', 'Ticket', 'Fare', 'Cabin', 'Embarked'],\n",
       "      dtype='object')"
      ]
     },
     "execution_count": 63,
     "metadata": {},
     "output_type": "execute_result"
    }
   ],
   "source": [
    "df.columns"
   ]
  },
  {
   "cell_type": "code",
   "execution_count": 61,
   "metadata": {},
   "outputs": [],
   "source": [
    "def plusNum(df, col, num):\n",
    "    return df[col] + num"
   ]
  },
  {
   "cell_type": "code",
   "execution_count": 64,
   "metadata": {},
   "outputs": [
    {
     "data": {
      "text/plain": [
       "0      23.0\n",
       "1      39.0\n",
       "2      27.0\n",
       "3      36.0\n",
       "4      36.0\n",
       "       ... \n",
       "886    28.0\n",
       "887    20.0\n",
       "888     NaN\n",
       "889    27.0\n",
       "890    33.0\n",
       "Length: 891, dtype: float64"
      ]
     },
     "execution_count": 64,
     "metadata": {},
     "output_type": "execute_result"
    }
   ],
   "source": [
    "#df[\"Name\"] = \n",
    "df.apply(plusNum, args=(\"Age\",1,), axis=1)"
   ]
  },
  {
   "cell_type": "code",
   "execution_count": 65,
   "metadata": {},
   "outputs": [],
   "source": [
    "path = \"./data/titanic.csv\"\n",
    "function_name = \"plusNum\"\n",
    "apply_column = [\"Age\"]\n",
    "parameters = [\"1\"]\n",
    "target_column = \"Name\"\n",
    "new_column_name = \"\""
   ]
  },
  {
   "cell_type": "code",
   "execution_count": null,
   "metadata": {},
   "outputs": [],
   "source": [
    "apply_col = \"\""
   ]
  },
  {
   "cell_type": "code",
   "execution_count": 69,
   "metadata": {},
   "outputs": [],
   "source": [
    "x = \"\"\n",
    "for param in parameters:\n",
    "    x += param + \",\""
   ]
  },
  {
   "cell_type": "code",
   "execution_count": 70,
   "metadata": {},
   "outputs": [
    {
     "data": {
      "text/plain": [
       "'1,'"
      ]
     },
     "execution_count": 70,
     "metadata": {},
     "output_type": "execute_result"
    }
   ],
   "source": [
    "x"
   ]
  },
  {
   "cell_type": "code",
   "execution_count": null,
   "metadata": {},
   "outputs": [],
   "source": [
    "args = "
   ]
  },
  {
   "cell_type": "code",
   "execution_count": 68,
   "metadata": {},
   "outputs": [],
   "source": [
    "user_function = eval(function_name)"
   ]
  },
  {
   "cell_type": "code",
   "execution_count": null,
   "metadata": {},
   "outputs": [],
   "source": [
    "df[target_column] = df.apply(user_function, args=())"
   ]
  }
 ],
 "metadata": {
  "kernelspec": {
   "display_name": "Python 3",
   "language": "python",
   "name": "python3"
  },
  "language_info": {
   "codemirror_mode": {
    "name": "ipython",
    "version": 3
   },
   "file_extension": ".py",
   "mimetype": "text/x-python",
   "name": "python",
   "nbconvert_exporter": "python",
   "pygments_lexer": "ipython3",
   "version": "3.7.9"
  }
 },
 "nbformat": 4,
 "nbformat_minor": 4
}
