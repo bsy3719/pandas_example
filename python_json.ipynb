{
 "cells": [
  {
   "cell_type": "code",
   "execution_count": 1,
   "metadata": {},
   "outputs": [],
   "source": [
    "import json"
   ]
  },
  {
   "cell_type": "code",
   "execution_count": 2,
   "metadata": {},
   "outputs": [],
   "source": [
    "student_data = {\n",
    "    \"1.FirstName\": \"Gildong\",\n",
    "    \"2.LastName\": \"Hong\",\n",
    "    \"3.Age\": 20, \n",
    "    \"4.University\": \"Yonsei University\",\n",
    "    \"5.Courses\": [\n",
    "        {\n",
    "            \"Major\": \"Statistics\", \n",
    "            \"Classes\": [\"Probability\", \n",
    "                        \"Generalized Linear Model\", \n",
    "                        \"Categorical Data Analysis\"]\n",
    "        }, \n",
    "        {\n",
    "            \"Minor\": \"ComputerScience\", \n",
    "            \"Classes\": [\"Data Structure\", \n",
    "                        \"Programming\", \n",
    "                        \"Algorithms\"]\n",
    "        }\n",
    "    ]\n",
    "} "
   ]
  },
  {
   "cell_type": "markdown",
   "metadata": {},
   "source": [
    "## json -> json file 생성"
   ]
  },
  {
   "cell_type": "code",
   "execution_count": 3,
   "metadata": {},
   "outputs": [],
   "source": [
    "with open(\"./data/student_file.json\", \"w\") as json_file:\n",
    "\n",
    "    json.dump(student_data, json_file)"
   ]
  },
  {
   "cell_type": "markdown",
   "metadata": {},
   "source": [
    "## json.dumps() : json 포맷 데이터 메모리에 만들기\n",
    "- json 포맷 데이터를 만들어 놓고 python에서 계속 작업을 할 때 사용\n",
    "- indent : 사람이 보기 쉽게 들여쓰기해서 보여줌"
   ]
  },
  {
   "cell_type": "code",
   "execution_count": 7,
   "metadata": {},
   "outputs": [
    {
     "name": "stdout",
     "output_type": "stream",
     "text": [
      "{\n",
      "    \"1.FirstName\": \"Gildong\",\n",
      "    \"2.LastName\": \"Hong\",\n",
      "    \"3.Age\": 20,\n",
      "    \"4.University\": \"Yonsei University\",\n",
      "    \"5.Courses\": [\n",
      "        {\n",
      "            \"Major\": \"Statistics\",\n",
      "            \"Classes\": [\n",
      "                \"Probability\",\n",
      "                \"Generalized Linear Model\",\n",
      "                \"Categorical Data Analysis\"\n",
      "            ]\n",
      "        },\n",
      "        {\n",
      "            \"Minor\": \"ComputerScience\",\n",
      "            \"Classes\": [\n",
      "                \"Data Structure\",\n",
      "                \"Programming\",\n",
      "                \"Algorithms\"\n",
      "            ]\n",
      "        }\n",
      "    ]\n",
      "}\n"
     ]
    }
   ],
   "source": [
    "st_json = json.dumps(student_data, indent=4)\n",
    "print(st_json)"
   ]
  },
  {
   "cell_type": "markdown",
   "metadata": {},
   "source": [
    "## json.loads() : json 포맷 데이터를 python 객체로 읽기, 역직렬화, 디코딩"
   ]
  },
  {
   "cell_type": "code",
   "execution_count": 9,
   "metadata": {},
   "outputs": [],
   "source": [
    "with open(\"./data/student_file.json\", \"r\") as st_json:\n",
    "\n",
    "    st_python = json.load(st_json)"
   ]
  },
  {
   "cell_type": "code",
   "execution_count": null,
   "metadata": {},
   "outputs": [],
   "source": []
  }
 ],
 "metadata": {
  "kernelspec": {
   "display_name": "datacentro_sample",
   "language": "python",
   "name": "datacentro_sample"
  },
  "language_info": {
   "codemirror_mode": {
    "name": "ipython",
    "version": 3
   },
   "file_extension": ".py",
   "mimetype": "text/x-python",
   "name": "python",
   "nbconvert_exporter": "python",
   "pygments_lexer": "ipython3",
   "version": "3.8.0"
  }
 },
 "nbformat": 4,
 "nbformat_minor": 4
}
