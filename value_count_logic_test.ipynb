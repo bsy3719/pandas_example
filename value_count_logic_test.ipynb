{
 "cells": [
  {
   "cell_type": "code",
   "execution_count": 6,
   "metadata": {},
   "outputs": [],
   "source": [
    "import pandas as pd\n",
    "import json"
   ]
  },
  {
   "cell_type": "code",
   "execution_count": 3,
   "metadata": {},
   "outputs": [],
   "source": [
    "df = pd.read_csv(\"./data/titanic.csv\")"
   ]
  },
  {
   "cell_type": "code",
   "execution_count": 111,
   "metadata": {},
   "outputs": [
    {
     "data": {
      "text/plain": [
       "Index(['PassengerId', 'Survived', 'Pclass', 'Name', 'Sex', 'Age', 'SibSp',\n",
       "       'Parch', 'Ticket', 'Fare', 'Cabin', 'Embarked'],\n",
       "      dtype='object')"
      ]
     },
     "execution_count": 111,
     "metadata": {},
     "output_type": "execute_result"
    }
   ],
   "source": [
    "df.columns"
   ]
  },
  {
   "cell_type": "code",
   "execution_count": 119,
   "metadata": {},
   "outputs": [
    {
     "data": {
      "text/plain": [
       "{'PassengerId': 'int64',\n",
       " 'Survived': 'int64',\n",
       " 'Pclass': 'int64',\n",
       " 'Name': 'object',\n",
       " 'Sex': 'object',\n",
       " 'Age': 'float64',\n",
       " 'SibSp': 'int64',\n",
       " 'Parch': 'int64',\n",
       " 'Ticket': 'object',\n",
       " 'Fare': 'float64',\n",
       " 'Cabin': 'object',\n",
       " 'Embarked': 'object'}"
      ]
     },
     "execution_count": 119,
     "metadata": {},
     "output_type": "execute_result"
    }
   ],
   "source": [
    "dict(zip(list(df.columns), list(map(str, df.dtypes))))"
   ]
  },
  {
   "cell_type": "code",
   "execution_count": 115,
   "metadata": {},
   "outputs": [
    {
     "data": {
      "text/plain": [
       "['int64',\n",
       " 'int64',\n",
       " 'int64',\n",
       " 'object',\n",
       " 'object',\n",
       " 'float64',\n",
       " 'int64',\n",
       " 'int64',\n",
       " 'object',\n",
       " 'float64',\n",
       " 'object',\n",
       " 'object']"
      ]
     },
     "execution_count": 115,
     "metadata": {},
     "output_type": "execute_result"
    }
   ],
   "source": [
    "list(map(str, df.dtypes))"
   ]
  },
  {
   "cell_type": "code",
   "execution_count": 112,
   "metadata": {},
   "outputs": [
    {
     "data": {
      "text/plain": [
       "[dtype('int64'),\n",
       " dtype('int64'),\n",
       " dtype('int64'),\n",
       " dtype('O'),\n",
       " dtype('O'),\n",
       " dtype('float64'),\n",
       " dtype('int64'),\n",
       " dtype('int64'),\n",
       " dtype('O'),\n",
       " dtype('float64'),\n",
       " dtype('O'),\n",
       " dtype('O')]"
      ]
     },
     "execution_count": 112,
     "metadata": {},
     "output_type": "execute_result"
    }
   ],
   "source": [
    "list(df.dtypes)"
   ]
  },
  {
   "cell_type": "code",
   "execution_count": 16,
   "metadata": {},
   "outputs": [
    {
     "data": {
      "text/plain": [
       "0      22.0\n",
       "1      38.0\n",
       "2      26.0\n",
       "3      35.0\n",
       "4      35.0\n",
       "       ... \n",
       "886    27.0\n",
       "887    19.0\n",
       "888     NaN\n",
       "889    26.0\n",
       "890    32.0\n",
       "Name: Age, Length: 891, dtype: float64"
      ]
     },
     "execution_count": 16,
     "metadata": {},
     "output_type": "execute_result"
    }
   ],
   "source": [
    "df[\"Age\"]"
   ]
  },
  {
   "cell_type": "code",
   "execution_count": 103,
   "metadata": {},
   "outputs": [],
   "source": [
    "s = pd.cut(df['Age'], bins=10).value_counts()"
   ]
  },
  {
   "cell_type": "code",
   "execution_count": 104,
   "metadata": {},
   "outputs": [
    {
     "data": {
      "text/plain": [
       "CategoricalIndex(['16.336 - 24.294', '24.294 - 32.252', '32.252 - 40.21',\n",
       "                  '40.21 - 48.168', '0.34 - 8.378', '8.378 - 16.336',\n",
       "                  '48.168 - 56.126', '56.126 - 64.084', '64.084 - 72.042',\n",
       "                  '72.042 - 80.0'],\n",
       "                 categories=['0.34 - 8.378', '8.378 - 16.336', '16.336 - 24.294', '24.294 - 32.252', '32.252 - 40.21', '40.21 - 48.168', '48.168 - 56.126', '56.126 - 64.084', ...], ordered=True, dtype='category')"
      ]
     },
     "execution_count": 104,
     "metadata": {},
     "output_type": "execute_result"
    }
   ],
   "source": [
    "s.index.map(lambda x : str(x)[1:-1].replace(\",\", \" -\"))"
   ]
  },
  {
   "cell_type": "code",
   "execution_count": 94,
   "metadata": {},
   "outputs": [],
   "source": [
    "s.index = s.index.astype(\"str\")"
   ]
  },
  {
   "cell_type": "code",
   "execution_count": 101,
   "metadata": {},
   "outputs": [
    {
     "data": {
      "text/plain": [
       "Index(['16.336 - 24.294', '24.294 - 32.252', '32.252 - 40.21',\n",
       "       '40.21 - 48.168', '0.34 - 8.378', '8.378 - 16.336', '48.168 - 56.126',\n",
       "       '56.126 - 64.084', '64.084 - 72.042', '72.042 - 80.0'],\n",
       "      dtype='object')"
      ]
     },
     "execution_count": 101,
     "metadata": {},
     "output_type": "execute_result"
    }
   ],
   "source": [
    "s.index.map(lambda x : x[1:-1].replace(\",\", \" -\"))"
   ]
  },
  {
   "cell_type": "code",
   "execution_count": 100,
   "metadata": {},
   "outputs": [
    {
     "name": "stdout",
     "output_type": "stream",
     "text": [
      "(16.336, 24.294]\n",
      "(24.294, 32.252]\n",
      "(32.252, 40.21]\n",
      "(40.21, 48.168]\n",
      "(0.34, 8.378]\n",
      "(8.378, 16.336]\n",
      "(48.168, 56.126]\n",
      "(56.126, 64.084]\n",
      "(64.084, 72.042]\n",
      "(72.042, 80.0]\n"
     ]
    }
   ],
   "source": [
    "for idx in s.index:\n",
    "    print(idx)"
   ]
  },
  {
   "cell_type": "code",
   "execution_count": null,
   "metadata": {},
   "outputs": [],
   "source": []
  },
  {
   "cell_type": "code",
   "execution_count": 108,
   "metadata": {},
   "outputs": [],
   "source": [
    "def get_value_counts(df):\n",
    "    bins = 10\n",
    "    \n",
    "    value_counts = {}\n",
    "    for col in df.columns:\n",
    "        if len(df[col].unique()) <= 10:\n",
    "            value_counts[col] = df[col].value_counts().to_dict()\n",
    "        elif str(df[col].dtypes).startswith(\"int\") or str(df[col].dtypes).startswith(\"float\"):\n",
    "            tmp = pd.cut(df['Age'], bins=bins).value_counts()\n",
    "            tmp.index = tmp.index.astype(\"str\")\n",
    "            tmp.index = tmp.index.map(lambda x : x[1:-1].replace(\",\", \" -\"))\n",
    "            value_counts[col] = tmp.to_dict()\n",
    "        else:\n",
    "            value_counts[col] = None\n",
    "    return value_counts"
   ]
  },
  {
   "cell_type": "code",
   "execution_count": 109,
   "metadata": {},
   "outputs": [
    {
     "data": {
      "text/plain": [
       "{'PassengerId': {'16.336 - 24.294': 177,\n",
       "  '24.294 - 32.252': 169,\n",
       "  '32.252 - 40.21': 118,\n",
       "  '40.21 - 48.168': 70,\n",
       "  '0.34 - 8.378': 54,\n",
       "  '8.378 - 16.336': 46,\n",
       "  '48.168 - 56.126': 45,\n",
       "  '56.126 - 64.084': 24,\n",
       "  '64.084 - 72.042': 9,\n",
       "  '72.042 - 80.0': 2},\n",
       " 'Survived': {0: 549, 1: 342},\n",
       " 'Pclass': {3: 491, 1: 216, 2: 184},\n",
       " 'Name': None,\n",
       " 'Sex': {'male': 577, 'female': 314},\n",
       " 'Age': {'16.336 - 24.294': 177,\n",
       "  '24.294 - 32.252': 169,\n",
       "  '32.252 - 40.21': 118,\n",
       "  '40.21 - 48.168': 70,\n",
       "  '0.34 - 8.378': 54,\n",
       "  '8.378 - 16.336': 46,\n",
       "  '48.168 - 56.126': 45,\n",
       "  '56.126 - 64.084': 24,\n",
       "  '64.084 - 72.042': 9,\n",
       "  '72.042 - 80.0': 2},\n",
       " 'SibSp': {0: 608, 1: 209, 2: 28, 4: 18, 3: 16, 8: 7, 5: 5},\n",
       " 'Parch': {0: 678, 1: 118, 2: 80, 5: 5, 3: 5, 4: 4, 6: 1},\n",
       " 'Ticket': None,\n",
       " 'Fare': {'16.336 - 24.294': 177,\n",
       "  '24.294 - 32.252': 169,\n",
       "  '32.252 - 40.21': 118,\n",
       "  '40.21 - 48.168': 70,\n",
       "  '0.34 - 8.378': 54,\n",
       "  '8.378 - 16.336': 46,\n",
       "  '48.168 - 56.126': 45,\n",
       "  '56.126 - 64.084': 24,\n",
       "  '64.084 - 72.042': 9,\n",
       "  '72.042 - 80.0': 2},\n",
       " 'Cabin': None,\n",
       " 'Embarked': {'S': 644, 'C': 168, 'Q': 77}}"
      ]
     },
     "execution_count": 109,
     "metadata": {},
     "output_type": "execute_result"
    }
   ],
   "source": [
    "get_value_counts(df)"
   ]
  },
  {
   "cell_type": "code",
   "execution_count": 117,
   "metadata": {},
   "outputs": [],
   "source": [
    "s = \"\"\"{\n",
    "  \"path\": \"/Users/baek/git/datacentro/data-centro-python/sample/titanic_set.csv\",\n",
    "  \"delimiter\": \",\",\n",
    "  \"numRow\": \"3\",\n",
    "  \"encoding\": \"utf-8\",\n",
    "  \"columnType\": ['int64','int64','int64','object','object','float64','int64','int64','object','float64','object','object'],\n",
    "  \"useColumn\": ['PassengerId', 'Survived', 'Pclass', 'Name', 'Sex', 'Age', 'SibSp',\n",
    "       'Parch', 'Ticket', 'Fare', 'Cabin', 'Embarked'],\n",
    "  \"orderColumn\": ['PassengerId', 'Survived', 'Pclass', 'Name', 'Sex', 'Age', 'SibSp',\n",
    "       'Parch', 'Ticket', 'Fare', 'Cabin', 'Embarked'],\n",
    "  \"renameColumn\": ['PassengerId', 'Survived', 'Pclass', 'Name', 'Sex', 'Age', 'SibSp',\n",
    "       'Parch', 'Ticket', 'Fare', 'Cabin', 'Embarked']\n",
    "}\"\"\""
   ]
  },
  {
   "cell_type": "code",
   "execution_count": 118,
   "metadata": {},
   "outputs": [
    {
     "data": {
      "text/plain": [
       "'{\\n  \"path\": \"/Users/baek/git/datacentro/data-centro-python/sample/titanic_set.csv\",\\n  \"delimiter\": \",\",\\n  \"numRow\": \"3\",\\n  \"encoding\": \"utf-8\",\\n  \"columnType\": [\"int64\",\"int64\",\"int64\",\"object\",\"object\",\"float64\",\"int64\",\"int64\",\"object\",\"float64\",\"object\",\"object\"],\\n  \"useColumn\": [\"PassengerId\", \"Survived\", \"Pclass\", \"Name\", \"Sex\", \"Age\", \"SibSp\",\\n       \"Parch\", \"Ticket\", \"Fare\", \"Cabin\", \"Embarked\"],\\n  \"orderColumn\": [\"PassengerId\", \"Survived\", \"Pclass\", \"Name\", \"Sex\", \"Age\", \"SibSp\",\\n       \"Parch\", \"Ticket\", \"Fare\", \"Cabin\", \"Embarked\"],\\n  \"renameColumn\": [\"PassengerId\", \"Survived\", \"Pclass\", \"Name\", \"Sex\", \"Age\", \"SibSp\",\\n       \"Parch\", \"Ticket\", \"Fare\", \"Cabin\", \"Embarked\"]\\n}'"
      ]
     },
     "execution_count": 118,
     "metadata": {},
     "output_type": "execute_result"
    }
   ],
   "source": [
    "s.replace(\"'\", '\"')"
   ]
  },
  {
   "cell_type": "code",
   "execution_count": null,
   "metadata": {},
   "outputs": [],
   "source": []
  }
 ],
 "metadata": {
  "kernelspec": {
   "display_name": "datacentro_sample",
   "language": "python",
   "name": "datacentro_sample"
  },
  "language_info": {
   "codemirror_mode": {
    "name": "ipython",
    "version": 3
   },
   "file_extension": ".py",
   "mimetype": "text/x-python",
   "name": "python",
   "nbconvert_exporter": "python",
   "pygments_lexer": "ipython3",
   "version": "3.8.0"
  }
 },
 "nbformat": 4,
 "nbformat_minor": 4
}
