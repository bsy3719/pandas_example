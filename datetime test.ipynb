{
 "cells": [
  {
   "cell_type": "code",
   "execution_count": 10,
   "metadata": {},
   "outputs": [],
   "source": [
    "import pandas as pd"
   ]
  },
  {
   "cell_type": "code",
   "execution_count": 11,
   "metadata": {},
   "outputs": [],
   "source": [
    "df = pd.read_csv(\"./data/data.csv\", nrows=100)"
   ]
  },
  {
   "cell_type": "code",
   "execution_count": 12,
   "metadata": {},
   "outputs": [
    {
     "data": {
      "text/html": [
       "<div>\n",
       "<style scoped>\n",
       "    .dataframe tbody tr th:only-of-type {\n",
       "        vertical-align: middle;\n",
       "    }\n",
       "\n",
       "    .dataframe tbody tr th {\n",
       "        vertical-align: top;\n",
       "    }\n",
       "\n",
       "    .dataframe thead th {\n",
       "        text-align: right;\n",
       "    }\n",
       "</style>\n",
       "<table border=\"1\" class=\"dataframe\">\n",
       "  <thead>\n",
       "    <tr style=\"text-align: right;\">\n",
       "      <th></th>\n",
       "      <th>trip_id</th>\n",
       "      <th>year</th>\n",
       "      <th>month</th>\n",
       "      <th>week</th>\n",
       "      <th>day</th>\n",
       "      <th>hour</th>\n",
       "      <th>usertype</th>\n",
       "      <th>gender</th>\n",
       "      <th>starttime</th>\n",
       "      <th>stoptime</th>\n",
       "      <th>...</th>\n",
       "      <th>from_station_id</th>\n",
       "      <th>from_station_name</th>\n",
       "      <th>latitude_start</th>\n",
       "      <th>longitude_start</th>\n",
       "      <th>dpcapacity_start</th>\n",
       "      <th>to_station_id</th>\n",
       "      <th>to_station_name</th>\n",
       "      <th>latitude_end</th>\n",
       "      <th>longitude_end</th>\n",
       "      <th>dpcapacity_end</th>\n",
       "    </tr>\n",
       "  </thead>\n",
       "  <tbody>\n",
       "    <tr>\n",
       "      <th>0</th>\n",
       "      <td>2355134</td>\n",
       "      <td>2014</td>\n",
       "      <td>6</td>\n",
       "      <td>27</td>\n",
       "      <td>0</td>\n",
       "      <td>23</td>\n",
       "      <td>Subscriber</td>\n",
       "      <td>Male</td>\n",
       "      <td>2014.6.30 23:57</td>\n",
       "      <td>2014.7.1 0:07</td>\n",
       "      <td>...</td>\n",
       "      <td>131</td>\n",
       "      <td>Lincoln Ave &amp; Belmont Ave</td>\n",
       "      <td>41.939365</td>\n",
       "      <td>-87.668385</td>\n",
       "      <td>15</td>\n",
       "      <td>303</td>\n",
       "      <td>Broadway &amp; Cornelia Ave</td>\n",
       "      <td>41.945512</td>\n",
       "      <td>-87.645980</td>\n",
       "      <td>15</td>\n",
       "    </tr>\n",
       "    <tr>\n",
       "      <th>1</th>\n",
       "      <td>2355133</td>\n",
       "      <td>2014</td>\n",
       "      <td>6</td>\n",
       "      <td>27</td>\n",
       "      <td>0</td>\n",
       "      <td>23</td>\n",
       "      <td>Subscriber</td>\n",
       "      <td>Male</td>\n",
       "      <td>2014.6.30 23:56</td>\n",
       "      <td>2014.7.1 0:00</td>\n",
       "      <td>...</td>\n",
       "      <td>282</td>\n",
       "      <td>Halsted St &amp; Maxwell St</td>\n",
       "      <td>41.864580</td>\n",
       "      <td>-87.646930</td>\n",
       "      <td>15</td>\n",
       "      <td>22</td>\n",
       "      <td>May St &amp; Taylor St</td>\n",
       "      <td>41.869482</td>\n",
       "      <td>-87.655486</td>\n",
       "      <td>15</td>\n",
       "    </tr>\n",
       "    <tr>\n",
       "      <th>2</th>\n",
       "      <td>2355130</td>\n",
       "      <td>2014</td>\n",
       "      <td>6</td>\n",
       "      <td>27</td>\n",
       "      <td>0</td>\n",
       "      <td>23</td>\n",
       "      <td>Subscriber</td>\n",
       "      <td>Male</td>\n",
       "      <td>2014.6.30 23:33</td>\n",
       "      <td>2014.6.30 23:35</td>\n",
       "      <td>...</td>\n",
       "      <td>327</td>\n",
       "      <td>Sheffield Ave &amp; Webster Ave</td>\n",
       "      <td>41.921687</td>\n",
       "      <td>-87.653714</td>\n",
       "      <td>19</td>\n",
       "      <td>225</td>\n",
       "      <td>Halsted St &amp; Dickens Ave</td>\n",
       "      <td>41.919936</td>\n",
       "      <td>-87.648830</td>\n",
       "      <td>15</td>\n",
       "    </tr>\n",
       "    <tr>\n",
       "      <th>3</th>\n",
       "      <td>2355129</td>\n",
       "      <td>2014</td>\n",
       "      <td>6</td>\n",
       "      <td>27</td>\n",
       "      <td>0</td>\n",
       "      <td>23</td>\n",
       "      <td>Subscriber</td>\n",
       "      <td>Female</td>\n",
       "      <td>2014.6.30 23:26</td>\n",
       "      <td>2014.7.1 0:24</td>\n",
       "      <td>...</td>\n",
       "      <td>134</td>\n",
       "      <td>Peoria St &amp; Jackson Blvd</td>\n",
       "      <td>41.877749</td>\n",
       "      <td>-87.649633</td>\n",
       "      <td>19</td>\n",
       "      <td>194</td>\n",
       "      <td>State St &amp; Wacker Dr</td>\n",
       "      <td>41.887155</td>\n",
       "      <td>-87.627750</td>\n",
       "      <td>11</td>\n",
       "    </tr>\n",
       "    <tr>\n",
       "      <th>4</th>\n",
       "      <td>2355128</td>\n",
       "      <td>2014</td>\n",
       "      <td>6</td>\n",
       "      <td>27</td>\n",
       "      <td>0</td>\n",
       "      <td>23</td>\n",
       "      <td>Subscriber</td>\n",
       "      <td>Female</td>\n",
       "      <td>2014.6.30 23:16</td>\n",
       "      <td>2014.6.30 23:26</td>\n",
       "      <td>...</td>\n",
       "      <td>320</td>\n",
       "      <td>Loomis St &amp; Lexington St</td>\n",
       "      <td>41.872187</td>\n",
       "      <td>-87.661501</td>\n",
       "      <td>15</td>\n",
       "      <td>134</td>\n",
       "      <td>Peoria St &amp; Jackson Blvd</td>\n",
       "      <td>41.877749</td>\n",
       "      <td>-87.649633</td>\n",
       "      <td>19</td>\n",
       "    </tr>\n",
       "  </tbody>\n",
       "</table>\n",
       "<p>5 rows × 23 columns</p>\n",
       "</div>"
      ],
      "text/plain": [
       "   trip_id  year  month  week  day  hour    usertype  gender        starttime  \\\n",
       "0  2355134  2014      6    27    0    23  Subscriber    Male  2014.6.30 23:57   \n",
       "1  2355133  2014      6    27    0    23  Subscriber    Male  2014.6.30 23:56   \n",
       "2  2355130  2014      6    27    0    23  Subscriber    Male  2014.6.30 23:33   \n",
       "3  2355129  2014      6    27    0    23  Subscriber  Female  2014.6.30 23:26   \n",
       "4  2355128  2014      6    27    0    23  Subscriber  Female  2014.6.30 23:16   \n",
       "\n",
       "          stoptime  ...  from_station_id            from_station_name  \\\n",
       "0    2014.7.1 0:07  ...              131    Lincoln Ave & Belmont Ave   \n",
       "1    2014.7.1 0:00  ...              282      Halsted St & Maxwell St   \n",
       "2  2014.6.30 23:35  ...              327  Sheffield Ave & Webster Ave   \n",
       "3    2014.7.1 0:24  ...              134     Peoria St & Jackson Blvd   \n",
       "4  2014.6.30 23:26  ...              320     Loomis St & Lexington St   \n",
       "\n",
       "  latitude_start  longitude_start dpcapacity_start  to_station_id  \\\n",
       "0      41.939365       -87.668385               15            303   \n",
       "1      41.864580       -87.646930               15             22   \n",
       "2      41.921687       -87.653714               19            225   \n",
       "3      41.877749       -87.649633               19            194   \n",
       "4      41.872187       -87.661501               15            134   \n",
       "\n",
       "            to_station_name  latitude_end  longitude_end dpcapacity_end  \n",
       "0   Broadway & Cornelia Ave     41.945512     -87.645980             15  \n",
       "1        May St & Taylor St     41.869482     -87.655486             15  \n",
       "2  Halsted St & Dickens Ave     41.919936     -87.648830             15  \n",
       "3      State St & Wacker Dr     41.887155     -87.627750             11  \n",
       "4  Peoria St & Jackson Blvd     41.877749     -87.649633             19  \n",
       "\n",
       "[5 rows x 23 columns]"
      ]
     },
     "execution_count": 12,
     "metadata": {},
     "output_type": "execute_result"
    }
   ],
   "source": [
    "df.head()"
   ]
  },
  {
   "cell_type": "code",
   "execution_count": 13,
   "metadata": {},
   "outputs": [
    {
     "data": {
      "text/plain": [
       "trip_id                int64\n",
       "year                   int64\n",
       "month                  int64\n",
       "week                   int64\n",
       "day                    int64\n",
       "hour                   int64\n",
       "usertype              object\n",
       "gender                object\n",
       "starttime             object\n",
       "stoptime              object\n",
       "tripduration         float64\n",
       "temperature            int64\n",
       "events                object\n",
       "from_station_id        int64\n",
       "from_station_name     object\n",
       "latitude_start       float64\n",
       "longitude_start      float64\n",
       "dpcapacity_start       int64\n",
       "to_station_id          int64\n",
       "to_station_name       object\n",
       "latitude_end         float64\n",
       "longitude_end        float64\n",
       "dpcapacity_end         int64\n",
       "dtype: object"
      ]
     },
     "execution_count": 13,
     "metadata": {},
     "output_type": "execute_result"
    }
   ],
   "source": [
    "df.dtypes"
   ]
  },
  {
   "cell_type": "code",
   "execution_count": 15,
   "metadata": {},
   "outputs": [
    {
     "data": {
      "text/plain": [
       "0     2014.6.30 23:57\n",
       "1     2014.6.30 23:56\n",
       "2     2014.6.30 23:33\n",
       "3     2014.6.30 23:26\n",
       "4     2014.6.30 23:16\n",
       "           ...       \n",
       "95    2014.6.30 20:21\n",
       "96    2014.6.30 20:21\n",
       "97    2014.6.30 20:21\n",
       "98    2014.6.30 20:19\n",
       "99    2014.6.30 20:18\n",
       "Name: starttime, Length: 100, dtype: object"
      ]
     },
     "execution_count": 15,
     "metadata": {},
     "output_type": "execute_result"
    }
   ],
   "source": [
    "df[\"starttime\"].astype(\"str\")"
   ]
  },
  {
   "cell_type": "code",
   "execution_count": 20,
   "metadata": {},
   "outputs": [
    {
     "data": {
      "text/plain": [
       "0    2014-06-30 23:57:00\n",
       "1    2014-06-30 23:56:00\n",
       "2    2014-06-30 23:33:00\n",
       "3    2014-06-30 23:26:00\n",
       "4    2014-06-30 23:16:00\n",
       "             ...        \n",
       "95   2014-06-30 20:21:00\n",
       "96   2014-06-30 20:21:00\n",
       "97   2014-06-30 20:21:00\n",
       "98   2014-06-30 20:19:00\n",
       "99   2014-06-30 20:18:00\n",
       "Name: starttime, Length: 100, dtype: datetime64[ns]"
      ]
     },
     "execution_count": 20,
     "metadata": {},
     "output_type": "execute_result"
    }
   ],
   "source": [
    "df[\"starttime\"].astype(\"datetime64\")"
   ]
  },
  {
   "cell_type": "code",
   "execution_count": 8,
   "metadata": {},
   "outputs": [],
   "source": [
    "df[\"starttime\"] = pd.to_datetime(df[\"starttime\"])"
   ]
  },
  {
   "cell_type": "code",
   "execution_count": 9,
   "metadata": {},
   "outputs": [
    {
     "data": {
      "text/plain": [
       "trip_id                       int64\n",
       "year                          int64\n",
       "month                         int64\n",
       "week                          int64\n",
       "day                           int64\n",
       "hour                          int64\n",
       "usertype                     object\n",
       "gender                       object\n",
       "starttime            datetime64[ns]\n",
       "stoptime                     object\n",
       "tripduration                float64\n",
       "temperature                   int64\n",
       "events                       object\n",
       "from_station_id               int64\n",
       "from_station_name            object\n",
       "latitude_start              float64\n",
       "longitude_start             float64\n",
       "dpcapacity_start              int64\n",
       "to_station_id                 int64\n",
       "to_station_name              object\n",
       "latitude_end                float64\n",
       "longitude_end               float64\n",
       "dpcapacity_end                int64\n",
       "dtype: object"
      ]
     },
     "execution_count": 9,
     "metadata": {},
     "output_type": "execute_result"
    }
   ],
   "source": [
    "df.dtypes"
   ]
  },
  {
   "cell_type": "code",
   "execution_count": null,
   "metadata": {},
   "outputs": [],
   "source": []
  }
 ],
 "metadata": {
  "kernelspec": {
   "display_name": "datacentro_sample",
   "language": "python",
   "name": "datacentro_sample"
  },
  "language_info": {
   "codemirror_mode": {
    "name": "ipython",
    "version": 3
   },
   "file_extension": ".py",
   "mimetype": "text/x-python",
   "name": "python",
   "nbconvert_exporter": "python",
   "pygments_lexer": "ipython3",
   "version": "3.8.0"
  }
 },
 "nbformat": 4,
 "nbformat_minor": 4
}
