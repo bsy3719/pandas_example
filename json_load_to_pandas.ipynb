{
 "cells": [
  {
   "cell_type": "code",
   "execution_count": 15,
   "metadata": {},
   "outputs": [],
   "source": [
    "# parse a JSON string using json.loads() method : returns a dictionary\n",
    "\n",
    "import json\n",
    "import urllib\n",
    "import pandas as pd\n",
    "import sys\n",
    "\n",
    "if sys.version_info[0] == 3:\n",
    "    from urllib.request import urlopen # for Python 3.x\n",
    "else:\n",
    "    from urllib import urlopen           # for Python 2.x\n",
    "\n",
    "with urlopen(\"http://api.nobelprize.org/v1/prize.json\") as url:\n",
    "    novel_prize_json_file = url.read()\n",
    "novel_prize_json = json.loads(novel_prize_json_file.decode('utf-8'))\n",
    "\n",
    "file_path = \"./prize.json\"\n",
    "\n",
    "with open(file_path, 'w') as outfile:\n",
    "    json.dump(novel_prize_json, outfile)"
   ]
  },
  {
   "cell_type": "code",
   "execution_count": 16,
   "metadata": {},
   "outputs": [],
   "source": [
    "file_path = \"./prize.json\"\n",
    "\n",
    "with open(file_path, \"r\") as json_file:\n",
    "    novel_prize_json = json.load(json_file)"
   ]
  },
  {
   "cell_type": "code",
   "execution_count": 19,
   "metadata": {},
   "outputs": [
    {
     "data": {
      "text/plain": [
       "dict_keys(['prizes'])"
      ]
     },
     "execution_count": 19,
     "metadata": {},
     "output_type": "execute_result"
    }
   ],
   "source": [
    "novel_prize_json.keys()"
   ]
  },
  {
   "cell_type": "code",
   "execution_count": 22,
   "metadata": {},
   "outputs": [
    {
     "data": {
      "text/plain": [
       "{'year': '2020',\n",
       " 'category': 'chemistry',\n",
       " 'laureates': [{'id': '991',\n",
       "   'firstname': 'Emmanuelle',\n",
       "   'surname': 'Charpentier',\n",
       "   'motivation': '\"for the development of a method for genome editing\"',\n",
       "   'share': '2'},\n",
       "  {'id': '992',\n",
       "   'firstname': 'Jennifer A.',\n",
       "   'surname': 'Doudna',\n",
       "   'motivation': '\"for the development of a method for genome editing\"',\n",
       "   'share': '2'}]}"
      ]
     },
     "execution_count": 22,
     "metadata": {},
     "output_type": "execute_result"
    }
   ],
   "source": [
    "novel_prize_json['prizes'][0]"
   ]
  },
  {
   "cell_type": "code",
   "execution_count": 32,
   "metadata": {},
   "outputs": [
    {
     "data": {
      "text/plain": [
       "dict_keys(['year', 'category', 'laureates'])"
      ]
     },
     "execution_count": 32,
     "metadata": {},
     "output_type": "execute_result"
    }
   ],
   "source": [
    "novel_prize_json['prizes'][0].keys()"
   ]
  },
  {
   "cell_type": "code",
   "execution_count": 33,
   "metadata": {},
   "outputs": [],
   "source": [
    "novel_prize_chemistry = pd.DataFrame(novel_prize_json['prizes'][0][\"laureates\"])"
   ]
  },
  {
   "cell_type": "code",
   "execution_count": 34,
   "metadata": {},
   "outputs": [
    {
     "data": {
      "text/html": [
       "<div>\n",
       "<style scoped>\n",
       "    .dataframe tbody tr th:only-of-type {\n",
       "        vertical-align: middle;\n",
       "    }\n",
       "\n",
       "    .dataframe tbody tr th {\n",
       "        vertical-align: top;\n",
       "    }\n",
       "\n",
       "    .dataframe thead th {\n",
       "        text-align: right;\n",
       "    }\n",
       "</style>\n",
       "<table border=\"1\" class=\"dataframe\">\n",
       "  <thead>\n",
       "    <tr style=\"text-align: right;\">\n",
       "      <th></th>\n",
       "      <th>id</th>\n",
       "      <th>firstname</th>\n",
       "      <th>surname</th>\n",
       "      <th>motivation</th>\n",
       "      <th>share</th>\n",
       "    </tr>\n",
       "  </thead>\n",
       "  <tbody>\n",
       "    <tr>\n",
       "      <th>0</th>\n",
       "      <td>991</td>\n",
       "      <td>Emmanuelle</td>\n",
       "      <td>Charpentier</td>\n",
       "      <td>\"for the development of a method for genome ed...</td>\n",
       "      <td>2</td>\n",
       "    </tr>\n",
       "    <tr>\n",
       "      <th>1</th>\n",
       "      <td>992</td>\n",
       "      <td>Jennifer A.</td>\n",
       "      <td>Doudna</td>\n",
       "      <td>\"for the development of a method for genome ed...</td>\n",
       "      <td>2</td>\n",
       "    </tr>\n",
       "  </tbody>\n",
       "</table>\n",
       "</div>"
      ],
      "text/plain": [
       "    id    firstname      surname  \\\n",
       "0  991   Emmanuelle  Charpentier   \n",
       "1  992  Jennifer A.       Doudna   \n",
       "\n",
       "                                          motivation share  \n",
       "0  \"for the development of a method for genome ed...     2  \n",
       "1  \"for the development of a method for genome ed...     2  "
      ]
     },
     "execution_count": 34,
     "metadata": {},
     "output_type": "execute_result"
    }
   ],
   "source": [
    "novel_prize_chemistry"
   ]
  },
  {
   "cell_type": "code",
   "execution_count": null,
   "metadata": {},
   "outputs": [],
   "source": []
  }
 ],
 "metadata": {
  "kernelspec": {
   "display_name": "Python 3",
   "language": "python",
   "name": "python3"
  },
  "language_info": {
   "codemirror_mode": {
    "name": "ipython",
    "version": 3
   },
   "file_extension": ".py",
   "mimetype": "text/x-python",
   "name": "python",
   "nbconvert_exporter": "python",
   "pygments_lexer": "ipython3",
   "version": "3.7.9"
  }
 },
 "nbformat": 4,
 "nbformat_minor": 4
}
